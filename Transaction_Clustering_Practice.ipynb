{
 "cells": [
  {
   "cell_type": "markdown",
   "metadata": {
    "_cell_guid": "77841518-29e7-4001-9aeb-6267400da121",
    "_uuid": "baf39e29f412685d42adbf39a6030e5f00255d0d"
   },
   "source": [
    "# Clustering on Transaction Data\n",
    "\n",
    "The first section of this notebook, Data Preparation Steps, as well as the Word Cloud visualization and the Map of the global transactions, comes from the forked notebook as prepared by Fabien Daniel (https://www.kaggle.com/fabiendaniel/customer-segmentation?scriptVersionId=2093094).  Many thanks for open sourcing your data treatment to save others so much time! Additional thanks to J. Abécassis (https://www.kaggle.com/judithabk6) for the contributions he in turn made to Fabien's notebook.\n",
    " <br> <br>\n",
    " \n",
    "### Table of Contents <a class=\"anchor\" id=\"top\"></a>\n",
    "[1. Data & Packages](#1-bullet) <br>\n",
    "   - [1.1 Package Installation](#1-bullet) <br>\n",
    "   - [1.2 Data Preparation Steps (forked)](#1.2-bullet) <br>\n",
    "       * [1.2.1 Cancelling orders](#1.2.1-bullet) <br>\n",
    "       * [1.2.2 StockCode](#1.2.2-bullet) <br>\n",
    "       * [1.2.3 Transaction Total](#1.2.3-bullet) <br>\n",
    "\n",
    "[2. Exploratory Analysis](#2-bullet) <br>\n",
    "   - [2.1 Countries](#2.1-bullet) <br>\n",
    "       * [2.1.1 Map (forked)](#2.1.1-bullet) <br>\n",
    "       * [2.1.2 Purchasing Trends by Country](#2.1.2-bullet) <br><br>\n",
    "       \n",
    "   - [2.2 Customers and products (forked)](#2.2-bullet) <br>\n",
    "       * [2.2.1 Total Products, Unique Customers and Transactions (forked)](#2.2.1-bullet) <br>\n",
    "       * [2.2.2 StockCode (forked)](#2.2.2-bullet) <br>\n",
    "       * [2.2.3 Items Total (forked)](#2.2.3-bullet) <br>       \n",
    "\n",
    "[3. Clustering Analysis on Numeric Data](#3-bullet) <br>\n",
    "   - [3.1 Elbow Plot](#3.1-bullet) <br>  \n",
    "   - [3.2 Silhouette Plot](#3.2-bullet) <br> \n",
    "   - [3.3 Pair Plot](#3.3 bullet) <br> <br>\n",
    "\n",
    "### Forked from here on down<br>\n",
    "(reference https://www.kaggle.com/fabiendaniel/customer-segmentation?scriptVersionId=2093094)\n",
    "\n",
    "[4. Insight on product categories](#4-bullet) <br>\n",
    "   - [4.1 Products Description](#4.1-bullet) <br>\n",
    "   - [4.2 Defining product categories](#4.2-bullet) <br>\n",
    "       * [4.2.1 Data encoding](#4.2.1-bullet) <br>\n",
    "       * [4.2.2 Creating clusters of products](#4.2.2-bullet) <br>\n",
    "       * [4.2.3  Characterizing the content of clusters](#4.2.3-bullet) <br>\n",
    "\n",
    "[5. Customer categories](#5-bullet) <br>\n",
    "   - [5.1 Formatting data](#5.1-bullet) <br>\n",
    "       * [5.1.1 Grouping products](#5.1.1-bullet) <br>\n",
    "       * [5.1.2 Separation of data over time](#5.1.2-bullet) <br>\n",
    "       * [5.1.3 Consumer Order Combinations](#5.1.3-bullet) <br>\n",
    "   - [5.2 Creation of customers categories](#5.2-bullet) <br>\n",
    "       * [5.2.1 Data encoding](#5.2.1-bullet) <br>\n",
    "       * [5.2.2 Creation of customer categories](#5.2.2-bullet) <br>"
   ]
  },
  {
   "cell_type": "markdown",
   "metadata": {
    "_cell_guid": "151b89ad-6783-483e-8cf9-081f23052f7f",
    "_uuid": "b2c01e22363fb1afa2ea2b080659cbfbe0416465"
   },
   "source": [
    "## 1. Data Import & Install Packages  <a class=\"anchor\" id=\"1-bullet\"></a>"
   ]
  },
  {
   "cell_type": "markdown",
   "metadata": {},
   "source": [
    "### 1.1 Package Installation <a class=\"anchor\" id=\"1.1-bullet\"></a>"
   ]
  },
  {
   "cell_type": "code",
   "execution_count": 1,
   "metadata": {
    "_cell_guid": "705714b1-870b-4f34-b5bf-cd027dafaefe",
    "_kg_hide-input": true,
    "_uuid": "bb40a7b23734d82876d812fab6daecd83a46368c",
    "collapsed": true
   },
   "outputs": [],
   "source": [
    "import pandas as pd\n",
    "import numpy as np\n",
    "import matplotlib as mpl\n",
    "import matplotlib.pyplot as plt\n",
    "import seaborn as sns\n",
    "import datetime, nltk, warnings\n",
    "import matplotlib.cm as cm\n",
    "import itertools\n",
    "from pathlib import Path"
   ]
  },
  {
   "cell_type": "code",
   "execution_count": 2,
   "metadata": {
    "collapsed": true
   },
   "outputs": [],
   "source": [
    "from sklearn.preprocessing import StandardScaler\n",
    "from sklearn.cluster import KMeans\n",
    "from sklearn.metrics import silhouette_samples, silhouette_score\n",
    "from sklearn import preprocessing, model_selection, metrics, feature_selection\n",
    "from sklearn.model_selection import GridSearchCV, learning_curve\n",
    "from sklearn.svm import SVC\n",
    "from sklearn.metrics import confusion_matrix\n",
    "from sklearn import neighbors, linear_model, svm, tree, ensemble\n",
    "from sklearn.ensemble import AdaBoostClassifier\n",
    "from sklearn.decomposition import PCA"
   ]
  },
  {
   "cell_type": "code",
   "execution_count": 3,
   "metadata": {},
   "outputs": [
    {
     "data": {
      "text/html": [
       "<script>requirejs.config({paths: { 'plotly': ['https://cdn.plot.ly/plotly-latest.min']},});if(!window.Plotly) {{require(['plotly'],function(plotly) {window.Plotly=plotly;});}}</script>"
      ],
      "text/vnd.plotly.v1+html": [
       "<script>requirejs.config({paths: { 'plotly': ['https://cdn.plot.ly/plotly-latest.min']},});if(!window.Plotly) {{require(['plotly'],function(plotly) {window.Plotly=plotly;});}}</script>"
      ]
     },
     "metadata": {},
     "output_type": "display_data"
    }
   ],
   "source": [
    "from wordcloud import WordCloud, STOPWORDS\n",
    "from IPython.display import display, HTML\n",
    "import plotly.graph_objs as go\n",
    "from plotly.offline import init_notebook_mode,iplot\n",
    "init_notebook_mode(connected=True)\n",
    "warnings.filterwarnings(\"ignore\")\n",
    "plt.rcParams[\"patch.force_edgecolor\"] = True\n",
    "plt.style.use('fivethirtyeight')\n",
    "mpl.rc('patch', edgecolor = 'dimgray', linewidth=1)\n",
    "%matplotlib inline"
   ]
  },
  {
   "cell_type": "markdown",
   "metadata": {
    "_cell_guid": "00704161-ee27-45e5-8abe-582799682a6a",
    "_uuid": "9fef0af109df66769564679418201e09990a5dea"
   },
   "source": [
    "### 1.2 Load Data  <a class=\"anchor\" id=\"1.2-bullet\"></a>"
   ]
  },
  {
   "cell_type": "code",
   "execution_count": 4,
   "metadata": {
    "collapsed": true
   },
   "outputs": [],
   "source": [
    "url='https://raw.githubusercontent.com/sgus1318/Transaction_Clustering/master/Online_Retail.csv'\n",
    "df_init = pd.read_csv(url, encoding=\"ISO-8859-1\", dtype={'CustomerID': str,'InvoiceNo': str, 'StockCode' : str})"
   ]
  },
  {
   "cell_type": "code",
   "execution_count": 5,
   "metadata": {},
   "outputs": [
    {
     "data": {
      "text/plain": [
       "(541909, 8)"
      ]
     },
     "execution_count": 5,
     "metadata": {},
     "output_type": "execute_result"
    }
   ],
   "source": [
    "df_init.shape"
   ]
  },
  {
   "cell_type": "code",
   "execution_count": 8,
   "metadata": {},
   "outputs": [
    {
     "data": {
      "text/html": [
       "<div>\n",
       "<style>\n",
       "    .dataframe thead tr:only-child th {\n",
       "        text-align: right;\n",
       "    }\n",
       "\n",
       "    .dataframe thead th {\n",
       "        text-align: left;\n",
       "    }\n",
       "\n",
       "    .dataframe tbody tr th {\n",
       "        vertical-align: top;\n",
       "    }\n",
       "</style>\n",
       "<table border=\"1\" class=\"dataframe\">\n",
       "  <thead>\n",
       "    <tr style=\"text-align: right;\">\n",
       "      <th></th>\n",
       "      <th>InvoiceNo</th>\n",
       "      <th>StockCode</th>\n",
       "      <th>Description</th>\n",
       "      <th>Quantity</th>\n",
       "      <th>InvoiceDate</th>\n",
       "      <th>UnitPrice</th>\n",
       "      <th>CustomerID</th>\n",
       "      <th>Country</th>\n",
       "    </tr>\n",
       "  </thead>\n",
       "  <tbody>\n",
       "    <tr>\n",
       "      <th>0</th>\n",
       "      <td>536365</td>\n",
       "      <td>85123A</td>\n",
       "      <td>WHITE HANGING HEART T-LIGHT HOLDER</td>\n",
       "      <td>6</td>\n",
       "      <td>12/1/2010 8:26</td>\n",
       "      <td>2.55</td>\n",
       "      <td>17850</td>\n",
       "      <td>United Kingdom</td>\n",
       "    </tr>\n",
       "    <tr>\n",
       "      <th>1</th>\n",
       "      <td>536365</td>\n",
       "      <td>71053</td>\n",
       "      <td>WHITE METAL LANTERN</td>\n",
       "      <td>6</td>\n",
       "      <td>12/1/2010 8:26</td>\n",
       "      <td>3.39</td>\n",
       "      <td>17850</td>\n",
       "      <td>United Kingdom</td>\n",
       "    </tr>\n",
       "    <tr>\n",
       "      <th>2</th>\n",
       "      <td>536365</td>\n",
       "      <td>84406B</td>\n",
       "      <td>CREAM CUPID HEARTS COAT HANGER</td>\n",
       "      <td>8</td>\n",
       "      <td>12/1/2010 8:26</td>\n",
       "      <td>2.75</td>\n",
       "      <td>17850</td>\n",
       "      <td>United Kingdom</td>\n",
       "    </tr>\n",
       "    <tr>\n",
       "      <th>3</th>\n",
       "      <td>536365</td>\n",
       "      <td>84029G</td>\n",
       "      <td>KNITTED UNION FLAG HOT WATER BOTTLE</td>\n",
       "      <td>6</td>\n",
       "      <td>12/1/2010 8:26</td>\n",
       "      <td>3.39</td>\n",
       "      <td>17850</td>\n",
       "      <td>United Kingdom</td>\n",
       "    </tr>\n",
       "    <tr>\n",
       "      <th>4</th>\n",
       "      <td>536365</td>\n",
       "      <td>84029E</td>\n",
       "      <td>RED WOOLLY HOTTIE WHITE HEART.</td>\n",
       "      <td>6</td>\n",
       "      <td>12/1/2010 8:26</td>\n",
       "      <td>3.39</td>\n",
       "      <td>17850</td>\n",
       "      <td>United Kingdom</td>\n",
       "    </tr>\n",
       "  </tbody>\n",
       "</table>\n",
       "</div>"
      ],
      "text/plain": [
       "  InvoiceNo StockCode                          Description  Quantity  \\\n",
       "0    536365    85123A   WHITE HANGING HEART T-LIGHT HOLDER         6   \n",
       "1    536365     71053                  WHITE METAL LANTERN         6   \n",
       "2    536365    84406B       CREAM CUPID HEARTS COAT HANGER         8   \n",
       "3    536365    84029G  KNITTED UNION FLAG HOT WATER BOTTLE         6   \n",
       "4    536365    84029E       RED WOOLLY HOTTIE WHITE HEART.         6   \n",
       "\n",
       "      InvoiceDate  UnitPrice CustomerID         Country  \n",
       "0  12/1/2010 8:26       2.55      17850  United Kingdom  \n",
       "1  12/1/2010 8:26       3.39      17850  United Kingdom  \n",
       "2  12/1/2010 8:26       2.75      17850  United Kingdom  \n",
       "3  12/1/2010 8:26       3.39      17850  United Kingdom  \n",
       "4  12/1/2010 8:26       3.39      17850  United Kingdom  "
      ]
     },
     "execution_count": 8,
     "metadata": {},
     "output_type": "execute_result"
    }
   ],
   "source": [
    "df_init.head()"
   ]
  },
  {
   "cell_type": "markdown",
   "metadata": {},
   "source": [
    "#### Convert to DateTime"
   ]
  },
  {
   "cell_type": "code",
   "execution_count": 9,
   "metadata": {
    "_cell_guid": "1063f9e0-e494-4873-939f-8aa5ca40cc89",
    "_kg_hide-input": true,
    "_uuid": "227fc0cb1d5216d52e057e1d2d7debd0e29abe46",
    "scrolled": false
   },
   "outputs": [],
   "source": [
    "df_init['InvoiceDate'] = pd.to_datetime(df_init['InvoiceDate'])"
   ]
  },
  {
   "cell_type": "markdown",
   "metadata": {},
   "source": [
    "#### Check for missing values"
   ]
  },
  {
   "cell_type": "code",
   "execution_count": 127,
   "metadata": {},
   "outputs": [
    {
     "data": {
      "text/plain": [
       "InvoiceNo      0\n",
       "StockCode      0\n",
       "Description    0\n",
       "Quantity       0\n",
       "InvoiceDate    0\n",
       "UnitPrice      0\n",
       "CustomerID     0\n",
       "Country        0\n",
       "dtype: int64"
      ]
     },
     "execution_count": 127,
     "metadata": {},
     "output_type": "execute_result"
    }
   ],
   "source": [
    "df_init.isnull().sum()"
   ]
  },
  {
   "cell_type": "markdown",
   "metadata": {
    "_cell_guid": "06c4d159-30b1-49d5-8704-e799e62d920e",
    "_uuid": "0bd74433ee980fa630f68bb213fb73cd2cb9c0f2"
   },
   "source": [
    "135,080/541,909 of the CustomerID's are missing, so we'll need to drop those rows. "
   ]
  },
  {
   "cell_type": "code",
   "execution_count": 11,
   "metadata": {
    "_cell_guid": "f9de6b67-a588-43ab-8f51-b28efdee9e32",
    "_kg_hide-input": true,
    "_uuid": "9b915fa18b311e8f93ac862bd49d08d90e03ca48",
    "collapsed": true
   },
   "outputs": [],
   "source": [
    "df_init.dropna(axis = 0, subset = ['CustomerID'], inplace = True)"
   ]
  },
  {
   "cell_type": "code",
   "execution_count": 12,
   "metadata": {},
   "outputs": [
    {
     "data": {
      "text/plain": [
       "InvoiceNo      0\n",
       "StockCode      0\n",
       "Description    0\n",
       "Quantity       0\n",
       "InvoiceDate    0\n",
       "UnitPrice      0\n",
       "CustomerID     0\n",
       "Country        0\n",
       "dtype: int64"
      ]
     },
     "execution_count": 12,
     "metadata": {},
     "output_type": "execute_result"
    }
   ],
   "source": [
    "df_init.isnull().sum()"
   ]
  },
  {
   "cell_type": "markdown",
   "metadata": {},
   "source": [
    "### Note: for the purposes of this cluster analysis, I'm ignoring \"returns\" (e.g. quantity less than 1) and \"buy one get one free\" or exchanges, where the Unit Price = $0"
   ]
  },
  {
   "cell_type": "code",
   "execution_count": 128,
   "metadata": {
    "collapsed": true
   },
   "outputs": [],
   "source": [
    "df1 = df_init[df_init['Quantity'] > 0]  "
   ]
  },
  {
   "cell_type": "code",
   "execution_count": 129,
   "metadata": {},
   "outputs": [],
   "source": [
    "df = df1[df1['UnitPrice']!= 0]  "
   ]
  },
  {
   "cell_type": "markdown",
   "metadata": {},
   "source": [
    "#### Removing weird outlier transaction (81k quantity)"
   ]
  },
  {
   "cell_type": "code",
   "execution_count": 130,
   "metadata": {
    "collapsed": true
   },
   "outputs": [],
   "source": [
    "df = df[df['Quantity']< 50000]  "
   ]
  },
  {
   "cell_type": "code",
   "execution_count": 131,
   "metadata": {},
   "outputs": [
    {
     "data": {
      "text/html": [
       "<div>\n",
       "<style>\n",
       "    .dataframe thead tr:only-child th {\n",
       "        text-align: right;\n",
       "    }\n",
       "\n",
       "    .dataframe thead th {\n",
       "        text-align: left;\n",
       "    }\n",
       "\n",
       "    .dataframe tbody tr th {\n",
       "        vertical-align: top;\n",
       "    }\n",
       "</style>\n",
       "<table border=\"1\" class=\"dataframe\">\n",
       "  <thead>\n",
       "    <tr style=\"text-align: right;\">\n",
       "      <th></th>\n",
       "      <th>Quantity</th>\n",
       "      <th>UnitPrice</th>\n",
       "    </tr>\n",
       "  </thead>\n",
       "  <tbody>\n",
       "    <tr>\n",
       "      <th>count</th>\n",
       "      <td>397882.000000</td>\n",
       "      <td>397882.000000</td>\n",
       "    </tr>\n",
       "    <tr>\n",
       "      <th>mean</th>\n",
       "      <td>12.598213</td>\n",
       "      <td>3.116496</td>\n",
       "    </tr>\n",
       "    <tr>\n",
       "      <th>std</th>\n",
       "      <td>42.886003</td>\n",
       "      <td>22.097932</td>\n",
       "    </tr>\n",
       "    <tr>\n",
       "      <th>min</th>\n",
       "      <td>1.000000</td>\n",
       "      <td>0.001000</td>\n",
       "    </tr>\n",
       "    <tr>\n",
       "      <th>25%</th>\n",
       "      <td>2.000000</td>\n",
       "      <td>1.250000</td>\n",
       "    </tr>\n",
       "    <tr>\n",
       "      <th>50%</th>\n",
       "      <td>6.000000</td>\n",
       "      <td>1.950000</td>\n",
       "    </tr>\n",
       "    <tr>\n",
       "      <th>75%</th>\n",
       "      <td>12.000000</td>\n",
       "      <td>3.750000</td>\n",
       "    </tr>\n",
       "    <tr>\n",
       "      <th>max</th>\n",
       "      <td>4800.000000</td>\n",
       "      <td>8142.750000</td>\n",
       "    </tr>\n",
       "  </tbody>\n",
       "</table>\n",
       "</div>"
      ],
      "text/plain": [
       "            Quantity      UnitPrice\n",
       "count  397882.000000  397882.000000\n",
       "mean       12.598213       3.116496\n",
       "std        42.886003      22.097932\n",
       "min         1.000000       0.001000\n",
       "25%         2.000000       1.250000\n",
       "50%         6.000000       1.950000\n",
       "75%        12.000000       3.750000\n",
       "max      4800.000000    8142.750000"
      ]
     },
     "execution_count": 131,
     "metadata": {},
     "output_type": "execute_result"
    }
   ],
   "source": [
    "df.describe()"
   ]
  },
  {
   "cell_type": "markdown",
   "metadata": {
    "_cell_guid": "ba32e71f-0e94-4d44-81cf-8409d644fc8b",
    "_uuid": "bd5c8b02bb28eaa95b66c941143794440e4ef53b"
   },
   "source": [
    "## 2. Exploratory Data Analysis <a class=\"anchor\" id=\"2-bullet\"></a>\n",
    "\n",
    "### 2.1 Countries <a class=\"anchor\" id=\"2.1-bullet\"></a>"
   ]
  },
  {
   "cell_type": "markdown",
   "metadata": {},
   "source": [
    "#### Unique Countries in dataset"
   ]
  },
  {
   "cell_type": "code",
   "execution_count": 132,
   "metadata": {
    "_cell_guid": "44abc17d-8858-457a-94e1-f012143fda87",
    "_kg_hide-input": true,
    "_uuid": "c4141f12a8b2c733539a75d398cadf0817ca0969"
   },
   "outputs": [
    {
     "data": {
      "text/plain": [
       "37"
      ]
     },
     "execution_count": 132,
     "metadata": {},
     "output_type": "execute_result"
    }
   ],
   "source": [
    "temp = df[['CustomerID', 'InvoiceNo', 'Country']].groupby(['CustomerID', 'InvoiceNo', 'Country']).count()\n",
    "temp = temp.reset_index(drop = False)\n",
    "countries = temp['Country'].value_counts()\n",
    "len(countries) ## total number of countries"
   ]
  },
  {
   "cell_type": "markdown",
   "metadata": {
    "_cell_guid": "f4e80201-fe50-4668-9d71-8b820e3f483e",
    "_uuid": "f9a0565eeb7b4c3dc802ebe9c4b810d8b938a3f7"
   },
   "source": [
    "### 2.1.1 Transactions per country map (forked)  <a class=\"anchor\" id=\"2.1.1-bullet\"></a>\n",
    "Resource: https://www.kaggle.com/fabiendaniel/customer-segmentation?scriptVersionId=2093094"
   ]
  },
  {
   "cell_type": "code",
   "execution_count": 133,
   "metadata": {
    "_cell_guid": "993e237f-8fbc-47b6-a2f9-6418a7221f07",
    "_kg_hide-input": true,
    "_uuid": "7b84b31aa58c137c8bb05fe5a3ebcb791b13100b"
   },
   "outputs": [
    {
     "data": {
      "application/vnd.plotly.v1+json": {
       "data": [
        {
         "colorbar": {
          "title": "Order nb."
         },
         "colorscale": [
          [
           0,
           "rgb(224,255,255)"
          ],
          [
           0.01,
           "rgb(166,206,227)"
          ],
          [
           0.02,
           "rgb(31,120,180)"
          ],
          [
           0.03,
           "rgb(178,223,138)"
          ],
          [
           0.05,
           "rgb(51,160,44)"
          ],
          [
           0.1,
           "rgb(251,154,153)"
          ],
          [
           0.2,
           "rgb(255,255,0)"
          ],
          [
           1,
           "rgb(227,26,28)"
          ]
         ],
         "locationmode": "country names",
         "locations": [
          "United Kingdom",
          "Germany",
          "France",
          "EIRE",
          "Belgium",
          "Netherlands",
          "Spain",
          "Portugal",
          "Australia",
          "Switzerland",
          "Finland",
          "Italy",
          "Sweden",
          "Norway",
          "Channel Islands",
          "Poland",
          "Japan",
          "Denmark",
          "Austria",
          "Cyprus",
          "Unspecified",
          "Iceland",
          "Singapore",
          "Canada",
          "Malta",
          "USA",
          "Israel",
          "Greece",
          "European Community",
          "Lithuania",
          "United Arab Emirates",
          "Bahrain",
          "Czech Republic",
          "Saudi Arabia",
          "Lebanon",
          "RSA",
          "Brazil"
         ],
         "reversescale": false,
         "text": [
          "United Kingdom",
          "Germany",
          "France",
          "EIRE",
          "Belgium",
          "Netherlands",
          "Spain",
          "Portugal",
          "Australia",
          "Switzerland",
          "Finland",
          "Italy",
          "Sweden",
          "Norway",
          "Channel Islands",
          "Poland",
          "Japan",
          "Denmark",
          "Austria",
          "Cyprus",
          "Unspecified",
          "Iceland",
          "Singapore",
          "Canada",
          "Malta",
          "USA",
          "Israel",
          "Greece",
          "European Community",
          "Lithuania",
          "United Arab Emirates",
          "Bahrain",
          "Czech Republic",
          "Saudi Arabia",
          "Lebanon",
          "RSA",
          "Brazil"
         ],
         "type": "choropleth",
         "z": [
          16644,
          457,
          389,
          260,
          98,
          94,
          90,
          57,
          57,
          51,
          41,
          38,
          36,
          36,
          26,
          19,
          19,
          18,
          17,
          16,
          8,
          7,
          7,
          6,
          5,
          5,
          5,
          5,
          4,
          4,
          3,
          2,
          2,
          1,
          1,
          1,
          1
         ]
        }
       ],
       "layout": {
        "geo": {
         "projection": {
          "type": "Mercator"
         },
         "showframe": true
        },
        "title": "Number of orders per country"
       }
      },
      "text/html": [
       "<div id=\"30864bb2-969f-4b8a-b798-cd9d81ba45b2\" style=\"height: 525px; width: 100%;\" class=\"plotly-graph-div\"></div><script type=\"text/javascript\">require([\"plotly\"], function(Plotly) { window.PLOTLYENV=window.PLOTLYENV || {};window.PLOTLYENV.BASE_URL=\"https://plot.ly\";Plotly.newPlot(\"30864bb2-969f-4b8a-b798-cd9d81ba45b2\", [{\"type\": \"choropleth\", \"locations\": [\"United Kingdom\", \"Germany\", \"France\", \"EIRE\", \"Belgium\", \"Netherlands\", \"Spain\", \"Portugal\", \"Australia\", \"Switzerland\", \"Finland\", \"Italy\", \"Sweden\", \"Norway\", \"Channel Islands\", \"Poland\", \"Japan\", \"Denmark\", \"Austria\", \"Cyprus\", \"Unspecified\", \"Iceland\", \"Singapore\", \"Canada\", \"Malta\", \"USA\", \"Israel\", \"Greece\", \"European Community\", \"Lithuania\", \"United Arab Emirates\", \"Bahrain\", \"Czech Republic\", \"Saudi Arabia\", \"Lebanon\", \"RSA\", \"Brazil\"], \"locationmode\": \"country names\", \"z\": [16644, 457, 389, 260, 98, 94, 90, 57, 57, 51, 41, 38, 36, 36, 26, 19, 19, 18, 17, 16, 8, 7, 7, 6, 5, 5, 5, 5, 4, 4, 3, 2, 2, 1, 1, 1, 1], \"text\": [\"United Kingdom\", \"Germany\", \"France\", \"EIRE\", \"Belgium\", \"Netherlands\", \"Spain\", \"Portugal\", \"Australia\", \"Switzerland\", \"Finland\", \"Italy\", \"Sweden\", \"Norway\", \"Channel Islands\", \"Poland\", \"Japan\", \"Denmark\", \"Austria\", \"Cyprus\", \"Unspecified\", \"Iceland\", \"Singapore\", \"Canada\", \"Malta\", \"USA\", \"Israel\", \"Greece\", \"European Community\", \"Lithuania\", \"United Arab Emirates\", \"Bahrain\", \"Czech Republic\", \"Saudi Arabia\", \"Lebanon\", \"RSA\", \"Brazil\"], \"colorbar\": {\"title\": \"Order nb.\"}, \"colorscale\": [[0, \"rgb(224,255,255)\"], [0.01, \"rgb(166,206,227)\"], [0.02, \"rgb(31,120,180)\"], [0.03, \"rgb(178,223,138)\"], [0.05, \"rgb(51,160,44)\"], [0.1, \"rgb(251,154,153)\"], [0.2, \"rgb(255,255,0)\"], [1, \"rgb(227,26,28)\"]], \"reversescale\": false}], {\"title\": \"Number of orders per country\", \"geo\": {\"showframe\": true, \"projection\": {\"type\": \"Mercator\"}}}, {\"showLink\": true, \"linkText\": \"Export to plot.ly\"})});</script>"
      ],
      "text/vnd.plotly.v1+html": [
       "<div id=\"30864bb2-969f-4b8a-b798-cd9d81ba45b2\" style=\"height: 525px; width: 100%;\" class=\"plotly-graph-div\"></div><script type=\"text/javascript\">require([\"plotly\"], function(Plotly) { window.PLOTLYENV=window.PLOTLYENV || {};window.PLOTLYENV.BASE_URL=\"https://plot.ly\";Plotly.newPlot(\"30864bb2-969f-4b8a-b798-cd9d81ba45b2\", [{\"type\": \"choropleth\", \"locations\": [\"United Kingdom\", \"Germany\", \"France\", \"EIRE\", \"Belgium\", \"Netherlands\", \"Spain\", \"Portugal\", \"Australia\", \"Switzerland\", \"Finland\", \"Italy\", \"Sweden\", \"Norway\", \"Channel Islands\", \"Poland\", \"Japan\", \"Denmark\", \"Austria\", \"Cyprus\", \"Unspecified\", \"Iceland\", \"Singapore\", \"Canada\", \"Malta\", \"USA\", \"Israel\", \"Greece\", \"European Community\", \"Lithuania\", \"United Arab Emirates\", \"Bahrain\", \"Czech Republic\", \"Saudi Arabia\", \"Lebanon\", \"RSA\", \"Brazil\"], \"locationmode\": \"country names\", \"z\": [16644, 457, 389, 260, 98, 94, 90, 57, 57, 51, 41, 38, 36, 36, 26, 19, 19, 18, 17, 16, 8, 7, 7, 6, 5, 5, 5, 5, 4, 4, 3, 2, 2, 1, 1, 1, 1], \"text\": [\"United Kingdom\", \"Germany\", \"France\", \"EIRE\", \"Belgium\", \"Netherlands\", \"Spain\", \"Portugal\", \"Australia\", \"Switzerland\", \"Finland\", \"Italy\", \"Sweden\", \"Norway\", \"Channel Islands\", \"Poland\", \"Japan\", \"Denmark\", \"Austria\", \"Cyprus\", \"Unspecified\", \"Iceland\", \"Singapore\", \"Canada\", \"Malta\", \"USA\", \"Israel\", \"Greece\", \"European Community\", \"Lithuania\", \"United Arab Emirates\", \"Bahrain\", \"Czech Republic\", \"Saudi Arabia\", \"Lebanon\", \"RSA\", \"Brazil\"], \"colorbar\": {\"title\": \"Order nb.\"}, \"colorscale\": [[0, \"rgb(224,255,255)\"], [0.01, \"rgb(166,206,227)\"], [0.02, \"rgb(31,120,180)\"], [0.03, \"rgb(178,223,138)\"], [0.05, \"rgb(51,160,44)\"], [0.1, \"rgb(251,154,153)\"], [0.2, \"rgb(255,255,0)\"], [1, \"rgb(227,26,28)\"]], \"reversescale\": false}], {\"title\": \"Number of orders per country\", \"geo\": {\"showframe\": true, \"projection\": {\"type\": \"Mercator\"}}}, {\"showLink\": true, \"linkText\": \"Export to plot.ly\"})});</script>"
      ]
     },
     "metadata": {},
     "output_type": "display_data"
    }
   ],
   "source": [
    "data = dict(type='choropleth',\n",
    "locations = countries.index,\n",
    "locationmode = 'country names', z = countries,\n",
    "text = countries.index, colorbar = {'title':'Order nb.'},\n",
    "colorscale=[[0, 'rgb(224,255,255)'],\n",
    "            [0.01, 'rgb(166,206,227)'], [0.02, 'rgb(31,120,180)'],\n",
    "            [0.03, 'rgb(178,223,138)'], [0.05, 'rgb(51,160,44)'],\n",
    "            [0.10, 'rgb(251,154,153)'], [0.20, 'rgb(255,255,0)'],\n",
    "            [1, 'rgb(227,26,28)']],    \n",
    "reversescale = False)\n",
    "#_______________________\n",
    "layout = dict(title='Number of orders per country',\n",
    "geo = dict(showframe = True, projection={'type':'Mercator'}))\n",
    "#______________\n",
    "choromap = go.Figure(data = [data], layout = layout)\n",
    "iplot(choromap, validate=False)"
   ]
  },
  {
   "cell_type": "code",
   "execution_count": 134,
   "metadata": {
    "collapsed": true
   },
   "outputs": [],
   "source": [
    "cnt = df.groupby('Country', as_index=False)['UnitPrice'].count()"
   ]
  },
  {
   "cell_type": "code",
   "execution_count": 135,
   "metadata": {},
   "outputs": [
    {
     "data": {
      "image/png": "[encoded data removed]",
      "text/plain": [
       "<matplotlib.figure.Figure at 0x1f610cec240>"
      ]
     },
     "metadata": {},
     "output_type": "display_data"
    }
   ],
   "source": [
    "cnt2 = cnt.sort_values(\"UnitPrice\", ascending=False)\n",
    "\n",
    "f, ax = plt.subplots(figsize=(10, 15))\n",
    "\n",
    "# Plot the total crashes\n",
    "sns.barplot(x=\"UnitPrice\", y=\"Country\", data=cnt2,\n",
    "            label=\"UnitPrice\", color=\"skyblue\")\n",
    "\n",
    "# Add a legend and informative axis label\n",
    "ax.legend(ncol=2, loc=\"lower right\", frameon=True)\n",
    "ax.set(xlim=(0, 360000), ylabel=\"\",\n",
    "       xlabel=\"Count of Units Sold per Country\")\n",
    "sns.despine(left=True, bottom=True)"
   ]
  },
  {
   "cell_type": "markdown",
   "metadata": {},
   "source": [
    "### 2.1.2 Avg Item Cost Per Country  <a class=\"anchor\" id=\"2.1.2-bullet\"></a>"
   ]
  },
  {
   "cell_type": "markdown",
   "metadata": {},
   "source": [
    "#### Most of the orders in the data are from the UK, but what's the average Unit Price purchased by each country?"
   ]
  },
  {
   "cell_type": "code",
   "execution_count": 136,
   "metadata": {},
   "outputs": [],
   "source": [
    "mns = df.groupby('Country', as_index=False)['UnitPrice'].mean()"
   ]
  },
  {
   "cell_type": "code",
   "execution_count": 137,
   "metadata": {},
   "outputs": [
    {
     "data": {
      "image/png": "[encoded data removed]",
      "text/plain": [
       "<matplotlib.figure.Figure at 0x1f6107eebe0>"
      ]
     },
     "metadata": {},
     "output_type": "display_data"
    }
   ],
   "source": [
    "mns2 = mns.sort_values(\"UnitPrice\", ascending=False)\n",
    "\n",
    "f, ax = plt.subplots(figsize=(10, 15))\n",
    "\n",
    "# Plot the total crashes\n",
    "sns.set_color_codes(\"pastel\")\n",
    "sns.barplot(x=\"UnitPrice\", y=\"Country\", data=mns2,\n",
    "            label=\"UnitPrice\", color=\"lightskyblue\")\n",
    "\n",
    "# Add a legend and informative axis label\n",
    "ax.legend(ncol=2, loc=\"lower right\", frameon=True)\n",
    "ax.set(xlim=(0, 60), ylabel=\"\",\n",
    "       xlabel=\"Average Unit Price per Country\")\n",
    "sns.despine(left=True, bottom=True)"
   ]
  },
  {
   "cell_type": "markdown",
   "metadata": {
    "_cell_guid": "a0a41461-7f22-4ca8-bc97-5aba4249dde7",
    "_uuid": "7a29044f1d76c8fb064a3262f5877ab27673a836"
   },
   "source": [
    "### 2.2 Customers and products (forked) <a class=\"anchor\" id=\"2.2-bullet\"></a>"
   ]
  },
  {
   "cell_type": "markdown",
   "metadata": {},
   "source": [
    "### 2.2.1 Total Products, Unique Customers and Transactions <a class=\"anchor\" id=\"2.2.1-bullet\"></a>"
   ]
  },
  {
   "cell_type": "code",
   "execution_count": 138,
   "metadata": {
    "_cell_guid": "677f103d-d199-480c-bca4-fc08f7aa2e92",
    "_kg_hide-input": true,
    "_uuid": "dc2f4b48b76615721e6718efbd31fcd3faf16bec"
   },
   "outputs": [
    {
     "data": {
      "text/html": [
       "<div>\n",
       "<style>\n",
       "    .dataframe thead tr:only-child th {\n",
       "        text-align: right;\n",
       "    }\n",
       "\n",
       "    .dataframe thead th {\n",
       "        text-align: left;\n",
       "    }\n",
       "\n",
       "    .dataframe tbody tr th {\n",
       "        vertical-align: top;\n",
       "    }\n",
       "</style>\n",
       "<table border=\"1\" class=\"dataframe\">\n",
       "  <thead>\n",
       "    <tr style=\"text-align: right;\">\n",
       "      <th></th>\n",
       "      <th>products</th>\n",
       "      <th>transactions</th>\n",
       "      <th>customers</th>\n",
       "    </tr>\n",
       "  </thead>\n",
       "  <tbody>\n",
       "    <tr>\n",
       "      <th>count</th>\n",
       "      <td>3664</td>\n",
       "      <td>18530</td>\n",
       "      <td>4337</td>\n",
       "    </tr>\n",
       "  </tbody>\n",
       "</table>\n",
       "</div>"
      ],
      "text/plain": [
       "       products  transactions  customers\n",
       "count      3664         18530       4337"
      ]
     },
     "execution_count": 138,
     "metadata": {},
     "output_type": "execute_result"
    }
   ],
   "source": [
    "pd.DataFrame([{'products': len(df['StockCode'].value_counts()),    \n",
    "               'transactions': len(df['InvoiceNo'].value_counts()),\n",
    "               'customers': len(df['CustomerID'].value_counts()),  \n",
    "              }], columns = ['products', 'transactions', 'customers'], index = ['count'])"
   ]
  },
  {
   "cell_type": "code",
   "execution_count": 139,
   "metadata": {
    "_cell_guid": "72d6dede-4280-4afd-b61b-085ea8c73d67",
    "_kg_hide-input": true,
    "_uuid": "dd0d84bd4275a04e361b5b41924d11b7f6f2e9ff"
   },
   "outputs": [
    {
     "data": {
      "text/html": [
       "<div>\n",
       "<style>\n",
       "    .dataframe thead tr:only-child th {\n",
       "        text-align: right;\n",
       "    }\n",
       "\n",
       "    .dataframe thead th {\n",
       "        text-align: left;\n",
       "    }\n",
       "\n",
       "    .dataframe tbody tr th {\n",
       "        vertical-align: top;\n",
       "    }\n",
       "</style>\n",
       "<table border=\"1\" class=\"dataframe\">\n",
       "  <thead>\n",
       "    <tr style=\"text-align: right;\">\n",
       "      <th></th>\n",
       "      <th>CustomerID</th>\n",
       "      <th>InvoiceNo</th>\n",
       "      <th>Number of products</th>\n",
       "    </tr>\n",
       "  </thead>\n",
       "  <tbody>\n",
       "    <tr>\n",
       "      <th>0</th>\n",
       "      <td>12347</td>\n",
       "      <td>537626</td>\n",
       "      <td>31</td>\n",
       "    </tr>\n",
       "    <tr>\n",
       "      <th>1</th>\n",
       "      <td>12347</td>\n",
       "      <td>542237</td>\n",
       "      <td>29</td>\n",
       "    </tr>\n",
       "    <tr>\n",
       "      <th>2</th>\n",
       "      <td>12347</td>\n",
       "      <td>549222</td>\n",
       "      <td>24</td>\n",
       "    </tr>\n",
       "    <tr>\n",
       "      <th>3</th>\n",
       "      <td>12347</td>\n",
       "      <td>556201</td>\n",
       "      <td>18</td>\n",
       "    </tr>\n",
       "    <tr>\n",
       "      <th>4</th>\n",
       "      <td>12347</td>\n",
       "      <td>562032</td>\n",
       "      <td>22</td>\n",
       "    </tr>\n",
       "    <tr>\n",
       "      <th>5</th>\n",
       "      <td>12347</td>\n",
       "      <td>573511</td>\n",
       "      <td>47</td>\n",
       "    </tr>\n",
       "    <tr>\n",
       "      <th>6</th>\n",
       "      <td>12347</td>\n",
       "      <td>581180</td>\n",
       "      <td>11</td>\n",
       "    </tr>\n",
       "    <tr>\n",
       "      <th>7</th>\n",
       "      <td>12348</td>\n",
       "      <td>539318</td>\n",
       "      <td>17</td>\n",
       "    </tr>\n",
       "    <tr>\n",
       "      <th>8</th>\n",
       "      <td>12348</td>\n",
       "      <td>541998</td>\n",
       "      <td>6</td>\n",
       "    </tr>\n",
       "    <tr>\n",
       "      <th>9</th>\n",
       "      <td>12348</td>\n",
       "      <td>548955</td>\n",
       "      <td>5</td>\n",
       "    </tr>\n",
       "  </tbody>\n",
       "</table>\n",
       "</div>"
      ],
      "text/plain": [
       "  CustomerID InvoiceNo  Number of products\n",
       "0      12347    537626                  31\n",
       "1      12347    542237                  29\n",
       "2      12347    549222                  24\n",
       "3      12347    556201                  18\n",
       "4      12347    562032                  22\n",
       "5      12347    573511                  47\n",
       "6      12347    581180                  11\n",
       "7      12348    539318                  17\n",
       "8      12348    541998                   6\n",
       "9      12348    548955                   5"
      ]
     },
     "execution_count": 139,
     "metadata": {},
     "output_type": "execute_result"
    }
   ],
   "source": [
    "#create new column for number of items per transaction\n",
    "\n",
    "temp = df.groupby(by=['CustomerID', 'InvoiceNo'], as_index=False)['InvoiceDate'].count()\n",
    "nb_products_per_basket = temp.rename(columns = {'InvoiceDate':'Number of products'})\n",
    "nb_products_per_basket[:10].sort_values('CustomerID')"
   ]
  },
  {
   "cell_type": "markdown",
   "metadata": {
    "_cell_guid": "840a05b8-da31-4a61-ba85-d26050ea7224",
    "_uuid": "ecf714d564214e6614fb604566b14d60e174a076"
   },
   "source": [
    "### 2.2.2 StockCode <a class=\"anchor\" id=\"2-bullet\"></a>"
   ]
  },
  {
   "cell_type": "markdown",
   "metadata": {},
   "source": [
    "#### Some values of the 'StockCode' variable indicate a particular transaction (i.e. D for _Discount_)."
   ]
  },
  {
   "cell_type": "code",
   "execution_count": 140,
   "metadata": {
    "_cell_guid": "e00212c8-5c1e-4dda-a392-cbc68c1964b1",
    "_kg_hide-input": true,
    "_uuid": "57e546917a0ea9a59a0e1dc3e0f9179c7efa66b5",
    "scrolled": true
   },
   "outputs": [
    {
     "data": {
      "text/plain": [
       "array(['POST', 'C2', 'M', 'BANK CHARGES', 'PADS', 'DOT'], dtype=object)"
      ]
     },
     "execution_count": 140,
     "metadata": {},
     "output_type": "execute_result"
    }
   ],
   "source": [
    "list_special_codes = df[df['StockCode'].str.contains('^[a-zA-Z]+', regex=True)]['StockCode'].unique()\n",
    "list_special_codes"
   ]
  },
  {
   "cell_type": "code",
   "execution_count": 141,
   "metadata": {
    "_cell_guid": "0a225335-7d6e-4c5b-a874-801e3f329f10",
    "_kg_hide-input": true,
    "_uuid": "ce078be30fea360c161b449a8cb666d98808e936"
   },
   "outputs": [
    {
     "name": "stdout",
     "output_type": "stream",
     "text": [
      "POST            -> POSTAGE                       \n",
      "C2              -> CARRIAGE                      \n",
      "M               -> Manual                        \n",
      "BANK CHARGES    -> Bank Charges                  \n",
      "PADS            -> PADS TO MATCH ALL CUSHIONS    \n",
      "DOT             -> DOTCOM POSTAGE                \n"
     ]
    }
   ],
   "source": [
    "for code in list_special_codes:\n",
    "    print(\"{:<15} -> {:<30}\".format(code, df[df['StockCode'] == code]['Description'].unique()[0]))"
   ]
  },
  {
   "cell_type": "markdown",
   "metadata": {
    "_cell_guid": "bc5a1aa1-9861-4f24-a40d-8a989412c9b9",
    "_uuid": "d4cf73dade342afadb96645a654171064c0426ba"
   },
   "source": [
    "### 2.2.3  Items Total <a class=\"anchor\" id=\"2.2.3-bullet\"></a>"
   ]
  },
  {
   "cell_type": "markdown",
   "metadata": {
    "_cell_guid": "d6fb4195-7261-4a24-852c-c69ca70b8575",
    "_uuid": "7c55e84eca46fad51da589f165775174dbc49d90"
   },
   "source": [
    "I create a new variable that indicates the total price of every purchase:"
   ]
  },
  {
   "cell_type": "code",
   "execution_count": 142,
   "metadata": {
    "_cell_guid": "3cbf20c0-0a44-49dc-96c3-ffd5455ddf0b",
    "_kg_hide-input": true,
    "_uuid": "5f070241e41d989ed3de0769d9f35f330d086415"
   },
   "outputs": [
    {
     "data": {
      "text/html": [
       "<div>\n",
       "<style>\n",
       "    .dataframe thead tr:only-child th {\n",
       "        text-align: right;\n",
       "    }\n",
       "\n",
       "    .dataframe thead th {\n",
       "        text-align: left;\n",
       "    }\n",
       "\n",
       "    .dataframe tbody tr th {\n",
       "        vertical-align: top;\n",
       "    }\n",
       "</style>\n",
       "<table border=\"1\" class=\"dataframe\">\n",
       "  <thead>\n",
       "    <tr style=\"text-align: right;\">\n",
       "      <th></th>\n",
       "      <th>InvoiceNo</th>\n",
       "      <th>StockCode</th>\n",
       "      <th>Description</th>\n",
       "      <th>Quantity</th>\n",
       "      <th>InvoiceDate</th>\n",
       "      <th>UnitPrice</th>\n",
       "      <th>CustomerID</th>\n",
       "      <th>Country</th>\n",
       "      <th>TotalItemPrice</th>\n",
       "    </tr>\n",
       "  </thead>\n",
       "  <tbody>\n",
       "    <tr>\n",
       "      <th>0</th>\n",
       "      <td>536365</td>\n",
       "      <td>85123A</td>\n",
       "      <td>WHITE HANGING HEART T-LIGHT HOLDER</td>\n",
       "      <td>6</td>\n",
       "      <td>2010-12-01 08:26:00</td>\n",
       "      <td>2.55</td>\n",
       "      <td>17850</td>\n",
       "      <td>United Kingdom</td>\n",
       "      <td>15.30</td>\n",
       "    </tr>\n",
       "    <tr>\n",
       "      <th>1</th>\n",
       "      <td>536365</td>\n",
       "      <td>71053</td>\n",
       "      <td>WHITE METAL LANTERN</td>\n",
       "      <td>6</td>\n",
       "      <td>2010-12-01 08:26:00</td>\n",
       "      <td>3.39</td>\n",
       "      <td>17850</td>\n",
       "      <td>United Kingdom</td>\n",
       "      <td>20.34</td>\n",
       "    </tr>\n",
       "    <tr>\n",
       "      <th>2</th>\n",
       "      <td>536365</td>\n",
       "      <td>84406B</td>\n",
       "      <td>CREAM CUPID HEARTS COAT HANGER</td>\n",
       "      <td>8</td>\n",
       "      <td>2010-12-01 08:26:00</td>\n",
       "      <td>2.75</td>\n",
       "      <td>17850</td>\n",
       "      <td>United Kingdom</td>\n",
       "      <td>22.00</td>\n",
       "    </tr>\n",
       "    <tr>\n",
       "      <th>3</th>\n",
       "      <td>536365</td>\n",
       "      <td>84029G</td>\n",
       "      <td>KNITTED UNION FLAG HOT WATER BOTTLE</td>\n",
       "      <td>6</td>\n",
       "      <td>2010-12-01 08:26:00</td>\n",
       "      <td>3.39</td>\n",
       "      <td>17850</td>\n",
       "      <td>United Kingdom</td>\n",
       "      <td>20.34</td>\n",
       "    </tr>\n",
       "    <tr>\n",
       "      <th>4</th>\n",
       "      <td>536365</td>\n",
       "      <td>84029E</td>\n",
       "      <td>RED WOOLLY HOTTIE WHITE HEART.</td>\n",
       "      <td>6</td>\n",
       "      <td>2010-12-01 08:26:00</td>\n",
       "      <td>3.39</td>\n",
       "      <td>17850</td>\n",
       "      <td>United Kingdom</td>\n",
       "      <td>20.34</td>\n",
       "    </tr>\n",
       "  </tbody>\n",
       "</table>\n",
       "</div>"
      ],
      "text/plain": [
       "  InvoiceNo StockCode                          Description  Quantity  \\\n",
       "0    536365    85123A   WHITE HANGING HEART T-LIGHT HOLDER         6   \n",
       "1    536365     71053                  WHITE METAL LANTERN         6   \n",
       "2    536365    84406B       CREAM CUPID HEARTS COAT HANGER         8   \n",
       "3    536365    84029G  KNITTED UNION FLAG HOT WATER BOTTLE         6   \n",
       "4    536365    84029E       RED WOOLLY HOTTIE WHITE HEART.         6   \n",
       "\n",
       "          InvoiceDate  UnitPrice CustomerID         Country  TotalItemPrice  \n",
       "0 2010-12-01 08:26:00       2.55      17850  United Kingdom           15.30  \n",
       "1 2010-12-01 08:26:00       3.39      17850  United Kingdom           20.34  \n",
       "2 2010-12-01 08:26:00       2.75      17850  United Kingdom           22.00  \n",
       "3 2010-12-01 08:26:00       3.39      17850  United Kingdom           20.34  \n",
       "4 2010-12-01 08:26:00       3.39      17850  United Kingdom           20.34  "
      ]
     },
     "execution_count": 142,
     "metadata": {},
     "output_type": "execute_result"
    }
   ],
   "source": [
    "df['TotalItemPrice'] = df['UnitPrice'] * (df['Quantity'])\n",
    "df.sort_values('InvoiceNo')[:5]"
   ]
  },
  {
   "cell_type": "markdown",
   "metadata": {
    "_cell_guid": "e08daf34-d2ad-48fd-b9e4-066571a21a9e",
    "_uuid": "fc8d7023bde00aa28d265f3c2c8ff62b0010ae58"
   },
   "source": [
    "Each entry of the dataframe indicates the price for a single kind of product. Hence, orders are split on several lines. I group all the purchases made during a single transaction to arrive at the total transaction price:"
   ]
  },
  {
   "cell_type": "code",
   "execution_count": 143,
   "metadata": {},
   "outputs": [
    {
     "data": {
      "text/html": [
       "<div>\n",
       "<style>\n",
       "    .dataframe thead tr:only-child th {\n",
       "        text-align: right;\n",
       "    }\n",
       "\n",
       "    .dataframe thead th {\n",
       "        text-align: left;\n",
       "    }\n",
       "\n",
       "    .dataframe tbody tr th {\n",
       "        vertical-align: top;\n",
       "    }\n",
       "</style>\n",
       "<table border=\"1\" class=\"dataframe\">\n",
       "  <thead>\n",
       "    <tr style=\"text-align: right;\">\n",
       "      <th></th>\n",
       "      <th>CustomerID</th>\n",
       "      <th>InvoiceNo</th>\n",
       "      <th>Country</th>\n",
       "      <th>Basket Price</th>\n",
       "      <th>InvoiceDate</th>\n",
       "    </tr>\n",
       "  </thead>\n",
       "  <tbody>\n",
       "    <tr>\n",
       "      <th>0</th>\n",
       "      <td>12347</td>\n",
       "      <td>537626</td>\n",
       "      <td>Iceland</td>\n",
       "      <td>711.79</td>\n",
       "      <td>2010-12-07 14:57:00.000001024</td>\n",
       "    </tr>\n",
       "    <tr>\n",
       "      <th>1</th>\n",
       "      <td>12347</td>\n",
       "      <td>542237</td>\n",
       "      <td>Iceland</td>\n",
       "      <td>475.39</td>\n",
       "      <td>2011-01-26 14:29:59.999999744</td>\n",
       "    </tr>\n",
       "    <tr>\n",
       "      <th>2</th>\n",
       "      <td>12347</td>\n",
       "      <td>549222</td>\n",
       "      <td>Iceland</td>\n",
       "      <td>636.25</td>\n",
       "      <td>2011-04-07 10:42:59.999999232</td>\n",
       "    </tr>\n",
       "    <tr>\n",
       "      <th>3</th>\n",
       "      <td>12347</td>\n",
       "      <td>556201</td>\n",
       "      <td>Iceland</td>\n",
       "      <td>382.52</td>\n",
       "      <td>2011-06-09 13:01:00.000000256</td>\n",
       "    </tr>\n",
       "    <tr>\n",
       "      <th>4</th>\n",
       "      <td>12347</td>\n",
       "      <td>562032</td>\n",
       "      <td>Iceland</td>\n",
       "      <td>584.91</td>\n",
       "      <td>2011-08-02 08:48:00.000000000</td>\n",
       "    </tr>\n",
       "    <tr>\n",
       "      <th>5</th>\n",
       "      <td>12347</td>\n",
       "      <td>573511</td>\n",
       "      <td>Iceland</td>\n",
       "      <td>1294.32</td>\n",
       "      <td>2011-10-31 12:25:00.000001280</td>\n",
       "    </tr>\n",
       "  </tbody>\n",
       "</table>\n",
       "</div>"
      ],
      "text/plain": [
       "  CustomerID InvoiceNo  Country  Basket Price                   InvoiceDate\n",
       "0      12347    537626  Iceland        711.79 2010-12-07 14:57:00.000001024\n",
       "1      12347    542237  Iceland        475.39 2011-01-26 14:29:59.999999744\n",
       "2      12347    549222  Iceland        636.25 2011-04-07 10:42:59.999999232\n",
       "3      12347    556201  Iceland        382.52 2011-06-09 13:01:00.000000256\n",
       "4      12347    562032  Iceland        584.91 2011-08-02 08:48:00.000000000\n",
       "5      12347    573511  Iceland       1294.32 2011-10-31 12:25:00.000001280"
      ]
     },
     "execution_count": 143,
     "metadata": {},
     "output_type": "execute_result"
    }
   ],
   "source": [
    "temp = df.groupby(by=['CustomerID', 'InvoiceNo', 'Country'], as_index=False)['TotalItemPrice'].sum()\n",
    "basket_price = temp.rename(columns = {'TotalItemPrice':'Basket Price'})\n",
    "\n",
    "df['InvoiceDate_int'] = df['InvoiceDate'].astype('int64')\n",
    "temp = df.groupby(by=['CustomerID', 'InvoiceNo','Country'], as_index=False)['InvoiceDate_int'].mean()\n",
    "df.drop('InvoiceDate_int', axis = 1, inplace = True)\n",
    "basket_price.loc[:, 'InvoiceDate'] = pd.to_datetime(temp['InvoiceDate_int'])\n",
    "\n",
    "basket_price = basket_price[basket_price['Basket Price'] > 0]\n",
    "basket_price.sort_values('CustomerID')[:6]"
   ]
  },
  {
   "cell_type": "markdown",
   "metadata": {},
   "source": [
    "## 3. Clustering Analysis on Numeric Data <a class=\"anchor\" id=\"3-bullet\"></a>"
   ]
  },
  {
   "cell_type": "code",
   "execution_count": 144,
   "metadata": {},
   "outputs": [],
   "source": [
    "cols=['Quantity','UnitPrice','TotalItemPrice']\n",
    "numericdf = df[cols]"
   ]
  },
  {
   "cell_type": "code",
   "execution_count": 170,
   "metadata": {
    "collapsed": true
   },
   "outputs": [],
   "source": [
    "from sklearn.model_selection import train_test_split\n",
    "train, test = train_test_split(numericdf, test_size=0.025, random_state=18)"
   ]
  },
  {
   "cell_type": "code",
   "execution_count": 171,
   "metadata": {
    "collapsed": true
   },
   "outputs": [],
   "source": [
    "x=test.copy()"
   ]
  },
  {
   "cell_type": "markdown",
   "metadata": {},
   "source": [
    "### 3.1 Elbow Plot <a class=\"anchor\" id=\"3.1-bullet\"></a>"
   ]
  },
  {
   "cell_type": "code",
   "execution_count": 172,
   "metadata": {},
   "outputs": [
    {
     "data": {
      "image/png": "[encoded data removed]",
      "text/plain": [
       "<matplotlib.figure.Figure at 0x1f61ff17978>"
      ]
     },
     "metadata": {},
     "output_type": "display_data"
    }
   ],
   "source": [
    "#Finding the optimum number of clusters for k-means classification\n",
    "from sklearn.cluster import KMeans\n",
    "wcss = []\n",
    "\n",
    "for i in range(1, 11):\n",
    "    kmeans = KMeans(n_clusters = i, init = 'k-means++', max_iter = 300, n_init = 10, random_state = 0)\n",
    "    kmeans.fit(x)\n",
    "    wcss.append(kmeans.inertia_)\n",
    "    \n",
    "#Plotting the results onto a line graph, allowing us to observe 'The elbow'\n",
    "plt.plot(range(1, 11), wcss)\n",
    "plt.xlabel('Clusters')\n",
    "plt.ylabel('SSE') \n",
    "plt.show()"
   ]
  },
  {
   "cell_type": "markdown",
   "metadata": {},
   "source": [
    "\"However, the elbow method doesn't always work well; especially if the data is not very clustered. Notice how the elbow chart for Dataset B does not have a clear elbow. Instead, we see a fairly smooth curve, and it's unclear what is the best value of k to choose. In cases like this, we might try a different method for determining the optimal k, such as computing silhouette scores, or we might reevaluate whether clustering is the right thing to do on our data.\"<br>\n",
    "https://bl.ocks.org/rpgove/0060ff3b656618e9136b"
   ]
  },
  {
   "cell_type": "markdown",
   "metadata": {},
   "source": [
    "### For the sake of practice, we'll go with 3 clusters based on the elbow plot, even though it's not clear what the optimal # of clusters is (or whether this is the right approach for this dataset)."
   ]
  },
  {
   "cell_type": "code",
   "execution_count": 210,
   "metadata": {},
   "outputs": [
    {
     "name": "stdout",
     "output_type": "stream",
     "text": [
      "For n_clusters = 2 The average silhouette_score is : 0.975348069656\n",
      "For n_clusters = 3 The average silhouette_score is : 0.891967247916\n",
      "For n_clusters = 4 The average silhouette_score is : 0.883885620152\n",
      "For n_clusters = 5 The average silhouette_score is : 0.840337765257\n",
      "For n_clusters = 6 The average silhouette_score is : 0.823966691659\n",
      "For n_clusters = 7 The average silhouette_score is : 0.714317167674\n",
      "For n_clusters = 8 The average silhouette_score is : 0.668638963384\n",
      "For n_clusters = 9 The average silhouette_score is : 0.42950005483\n"
     ]
    }
   ],
   "source": [
    "matrix = x.as_matrix()\n",
    "for n_clusters in range(2,10):\n",
    "    kmeans = KMeans(init='k-means++', n_clusters = n_clusters, n_init=30)\n",
    "    kmeans.fit(matrix)\n",
    "    clusters = kmeans.predict(matrix)\n",
    "    silhouette_avg = silhouette_score(matrix, clusters)\n",
    "    print(\"For n_clusters =\", n_clusters, \"The average silhouette_score is :\", silhouette_avg)"
   ]
  },
  {
   "cell_type": "markdown",
   "metadata": {},
   "source": [
    "### 3.2 Silhouette Plot <a class=\"anchor\" id=\"3.2-bullet\"></a>"
   ]
  },
  {
   "cell_type": "code",
   "execution_count": 173,
   "metadata": {},
   "outputs": [],
   "source": [
    "kmeans = KMeans(n_clusters = 3, init = 'k-means++', max_iter = 300, n_init = 10, random_state = 0)\n",
    "y_kmeans = pd.DataFrame(kmeans.fit_predict(x), dtype='int32')\n",
    "y_kfit = kmeans.fit_predict(x)"
   ]
  },
  {
   "cell_type": "code",
   "execution_count": 174,
   "metadata": {},
   "outputs": [],
   "source": [
    "x2 = x.reset_index(level=None, drop=False, inplace=False, col_level=0, col_fill='')"
   ]
  },
  {
   "cell_type": "code",
   "execution_count": 175,
   "metadata": {},
   "outputs": [],
   "source": [
    "x2['y_kmeans']=y_kmeans"
   ]
  },
  {
   "cell_type": "code",
   "execution_count": 176,
   "metadata": {},
   "outputs": [],
   "source": [
    "x3= x2[x2['y_kmeans'] == 0]  \n",
    "x4= x2[x2['y_kmeans'] == 1]  \n",
    "x5= x2[x2['y_kmeans'] == 2] "
   ]
  },
  {
   "cell_type": "code",
   "execution_count": 177,
   "metadata": {},
   "outputs": [
    {
     "data": {
      "text/plain": [
       "9692"
      ]
     },
     "execution_count": 177,
     "metadata": {},
     "output_type": "execute_result"
    }
   ],
   "source": [
    "len(x3)"
   ]
  },
  {
   "cell_type": "code",
   "execution_count": 178,
   "metadata": {},
   "outputs": [
    {
     "data": {
      "text/plain": [
       "17"
      ]
     },
     "execution_count": 178,
     "metadata": {},
     "output_type": "execute_result"
    }
   ],
   "source": [
    "len(x4)"
   ]
  },
  {
   "cell_type": "code",
   "execution_count": 179,
   "metadata": {},
   "outputs": [
    {
     "data": {
      "text/plain": [
       "239"
      ]
     },
     "execution_count": 179,
     "metadata": {},
     "output_type": "execute_result"
    }
   ],
   "source": [
    "len(x5)"
   ]
  },
  {
   "cell_type": "code",
   "execution_count": 181,
   "metadata": {},
   "outputs": [
    {
     "data": {
      "text/plain": [
       "<matplotlib.legend.Legend at 0x1f61b763b38>"
      ]
     },
     "execution_count": 181,
     "metadata": {},
     "output_type": "execute_result"
    },
    {
     "data": {
      "image/png": "[encoded data removed]",
      "text/plain": [
       "<matplotlib.figure.Figure at 0x1f618366780>"
      ]
     },
     "metadata": {},
     "output_type": "display_data"
    }
   ],
   "source": [
    "plt.scatter(x3['UnitPrice'], x3['Quantity'], c = 'red', label = 'clust1')\n",
    "plt.scatter(x4['UnitPrice'], x4['Quantity'], c = 'blue', label = 'clust2')\n",
    "plt.scatter(x5['UnitPrice'], x5['Quantity'], c = 'yellow', label = 'clust3')\n",
    "\n",
    "plt.xlim(0, 200)\n",
    "\n",
    "plt.legend()"
   ]
  },
  {
   "cell_type": "code",
   "execution_count": 182,
   "metadata": {
    "collapsed": true
   },
   "outputs": [],
   "source": [
    "y_km = kmeans.fit_predict(x)"
   ]
  },
  {
   "cell_type": "code",
   "execution_count": 183,
   "metadata": {
    "collapsed": true
   },
   "outputs": [],
   "source": [
    "cluster_labels = np.unique(y_km)"
   ]
  },
  {
   "cell_type": "code",
   "execution_count": 184,
   "metadata": {},
   "outputs": [
    {
     "data": {
      "text/plain": [
       "array([0, 1, 2])"
      ]
     },
     "execution_count": 184,
     "metadata": {},
     "output_type": "execute_result"
    }
   ],
   "source": [
    "cluster_labels"
   ]
  },
  {
   "cell_type": "code",
   "execution_count": 185,
   "metadata": {
    "collapsed": true
   },
   "outputs": [],
   "source": [
    "n_clusters = cluster_labels.shape[0]"
   ]
  },
  {
   "cell_type": "code",
   "execution_count": 186,
   "metadata": {},
   "outputs": [],
   "source": [
    "silhouette_vals = silhouette_samples(x, y_km, metric='euclidean')\n",
    "# NxN matrix computation is too large to perform this operation on the full 400k dataset"
   ]
  },
  {
   "cell_type": "markdown",
   "metadata": {},
   "source": [
    "https://stackoverflow.com/questions/47702750/memoryerror-from-sklearn-metrics-silhouette-samples"
   ]
  },
  {
   "cell_type": "code",
   "execution_count": 189,
   "metadata": {},
   "outputs": [
    {
     "data": {
      "image/png": "[encoded data removed]",
      "text/plain": [
       "<matplotlib.figure.Figure at 0x1f61086dc88>"
      ]
     },
     "metadata": {},
     "output_type": "display_data"
    }
   ],
   "source": [
    "cluster_labels = np.unique(y_km)\n",
    "n_clusters = cluster_labels.shape[0]\n",
    "#silhouette_vals = silhouette_samples(x, y_km, metric='euclidean')\n",
    "\n",
    "y_ax_lower, y_ax_upper = 0, 0\n",
    "yticks = []\n",
    "for i, c in enumerate(cluster_labels):\n",
    "    c_silhouette_vals = silhouette_vals[y_km == c]\n",
    "    c_silhouette_vals.sort()\n",
    "    y_ax_upper += len(c_silhouette_vals)\n",
    "    color = cm.jet(float(i) / n_clusters)\n",
    "    \n",
    "    plt.barh(range(y_ax_lower, y_ax_upper), c_silhouette_vals, height=1.0, edgecolor='none', color=color)\n",
    "\n",
    "    yticks.append((y_ax_lower + y_ax_upper) / 2)\n",
    "    y_ax_lower += len(c_silhouette_vals)\n",
    "\n",
    "silhouette_avg = np.mean(silhouette_vals)\n",
    "plt.axvline(silhouette_avg, color=\"red\", linestyle=\"--\")\n",
    "\n",
    "plt.yticks(yticks, cluster_labels + 1)\n",
    "plt.ylabel('Cluster')\n",
    "plt.xlabel('Silhouette coefficient')\n",
    "plt.show()"
   ]
  },
  {
   "cell_type": "markdown",
   "metadata": {},
   "source": [
    "http://scikit-learn.org/stable/auto_examples/cluster/plot_kmeans_silhouette_analysis.html"
   ]
  },
  {
   "cell_type": "markdown",
   "metadata": {},
   "source": [
    "### 3.3 Pair Plot: K-Means vs Agglomerative<a class=\"anchor\" id=\"3.3-bullet\"></a>"
   ]
  },
  {
   "cell_type": "code",
   "execution_count": 190,
   "metadata": {
    "collapsed": true
   },
   "outputs": [],
   "source": [
    "from sklearn.preprocessing import MinMaxScaler\n",
    "scaler = MinMaxScaler()"
   ]
  },
  {
   "cell_type": "code",
   "execution_count": 192,
   "metadata": {},
   "outputs": [
    {
     "name": "stdout",
     "output_type": "stream",
     "text": [
      "MinMaxScaler(copy=True, feature_range=(0, 1))\n",
      "[[ 0.00138985  0.03929257  0.00622812]\n",
      " [ 0.0076442   0.0096831   0.00629154]\n",
      " [ 0.00208478  0.01288412  0.00273987]\n",
      " ..., \n",
      " [ 0.03266157  0.0028009   0.00786443]\n",
      " [ 0.02432245  0.00488156  0.00984322]\n",
      " [ 0.00347464  0.04729513  0.01504389]]\n"
     ]
    }
   ],
   "source": [
    "print(scaler.fit(x))\n",
    "print(scaler.transform(x))"
   ]
  },
  {
   "cell_type": "code",
   "execution_count": 196,
   "metadata": {},
   "outputs": [
    {
     "data": {
      "image/png": "[encoded data removed]",
      "text/plain": [
       "<matplotlib.figure.Figure at 0x1f61b185198>"
      ]
     },
     "metadata": {},
     "output_type": "display_data"
    }
   ],
   "source": [
    "f, (ax1, ax2) = plt.subplots(1, 2, figsize=(8, 3))\n",
    "km = KMeans(n_clusters=2, random_state=0)\n",
    "\n",
    "X = scaler.transform(x)\n",
    "y_km = km.fit_predict(X)\n",
    "ax1.scatter(X[y_km==0,0],\n",
    "            X[y_km==0,1],\n",
    "            c='lightblue',\n",
    "            edgecolor='black',\n",
    "            marker='o',\n",
    "            s=40,\n",
    "            label='cluster 1')\n",
    "ax1.scatter(X[y_km==1,0],\n",
    "            X[y_km==1,1],\n",
    "            c='red',\n",
    "            edgecolor='black',\n",
    "            marker='s',\n",
    "            s=40,\n",
    "            label='cluster 2')\n",
    "ax1.set_title('K-means clustering')\n",
    "\n",
    "from sklearn.cluster import AgglomerativeClustering\n",
    "\n",
    "X = scaler.transform(x)\n",
    "ac = AgglomerativeClustering(n_clusters=2,\n",
    "                             affinity='euclidean',\n",
    "                             linkage='complete')\n",
    "y_ac = ac.fit_predict(X)\n",
    "ax2.scatter(X[y_ac==0,0],\n",
    "             X[y_ac==0,1],\n",
    "             c='lightblue',\n",
    "             edgecolor='black',\n",
    "             marker='o',\n",
    "            s=40,\n",
    "            label='cluster 1')\n",
    "ax2.scatter(X[y_ac==1,0],\n",
    "            X[y_ac==1,1],\n",
    "            c='red',\n",
    "            edgecolor='black',\n",
    "            marker='s',\n",
    "            s=40,\n",
    "            label='cluster 2')\n",
    "ax2.set_title('Agglomerative clustering')\n",
    "plt.legend()\n",
    "plt.show()"
   ]
  },
  {
   "cell_type": "markdown",
   "metadata": {},
   "source": [
    "# FORKED FROM HERE ON DOWN. (kept in because this is very cool)\n",
    "Reference: https://www.kaggle.com/fabiendaniel/customer-segmentation?scriptVersionId=2093094"
   ]
  },
  {
   "cell_type": "markdown",
   "metadata": {
    "_cell_guid": "81a3ca3c-32f5-4f57-aa54-182d779a5cba",
    "_uuid": "4864a5c03f9a66bff72599c2ff348157e53c4d7c"
   },
   "source": [
    "## 4. Insight on product categories  <a class=\"anchor\" id=\"4-bullet\"></a>\n",
    "\n",
    "In the dataframe, products are uniquely identified through the **StockCode** variable. A shrort description of the products is given in the **Description** variable. In this section, I intend to use the content of this latter variable in order to group the products into different categories.\n",
    "\n",
    "___\n",
    "### 4.1 Products Description <a class=\"anchor\" id=\"4.1-bullet\"></a>\n",
    "\n",
    "As a first step, I extract from the **Description** variable the information that will prove useful. To do this, I use the following function:"
   ]
  },
  {
   "cell_type": "code",
   "execution_count": 197,
   "metadata": {},
   "outputs": [
    {
     "data": {
      "text/html": [
       "<div>\n",
       "<style>\n",
       "    .dataframe thead tr:only-child th {\n",
       "        text-align: right;\n",
       "    }\n",
       "\n",
       "    .dataframe thead th {\n",
       "        text-align: left;\n",
       "    }\n",
       "\n",
       "    .dataframe tbody tr th {\n",
       "        vertical-align: top;\n",
       "    }\n",
       "</style>\n",
       "<table border=\"1\" class=\"dataframe\">\n",
       "  <thead>\n",
       "    <tr style=\"text-align: right;\">\n",
       "      <th></th>\n",
       "      <th>InvoiceNo</th>\n",
       "      <th>StockCode</th>\n",
       "      <th>Description</th>\n",
       "      <th>Quantity</th>\n",
       "      <th>InvoiceDate</th>\n",
       "      <th>UnitPrice</th>\n",
       "      <th>CustomerID</th>\n",
       "      <th>Country</th>\n",
       "      <th>TotalItemPrice</th>\n",
       "    </tr>\n",
       "  </thead>\n",
       "  <tbody>\n",
       "    <tr>\n",
       "      <th>0</th>\n",
       "      <td>536365</td>\n",
       "      <td>85123A</td>\n",
       "      <td>WHITE HANGING HEART T-LIGHT HOLDER</td>\n",
       "      <td>6</td>\n",
       "      <td>2010-12-01 08:26:00</td>\n",
       "      <td>2.55</td>\n",
       "      <td>17850</td>\n",
       "      <td>United Kingdom</td>\n",
       "      <td>15.30</td>\n",
       "    </tr>\n",
       "    <tr>\n",
       "      <th>1</th>\n",
       "      <td>536365</td>\n",
       "      <td>71053</td>\n",
       "      <td>WHITE METAL LANTERN</td>\n",
       "      <td>6</td>\n",
       "      <td>2010-12-01 08:26:00</td>\n",
       "      <td>3.39</td>\n",
       "      <td>17850</td>\n",
       "      <td>United Kingdom</td>\n",
       "      <td>20.34</td>\n",
       "    </tr>\n",
       "    <tr>\n",
       "      <th>2</th>\n",
       "      <td>536365</td>\n",
       "      <td>84406B</td>\n",
       "      <td>CREAM CUPID HEARTS COAT HANGER</td>\n",
       "      <td>8</td>\n",
       "      <td>2010-12-01 08:26:00</td>\n",
       "      <td>2.75</td>\n",
       "      <td>17850</td>\n",
       "      <td>United Kingdom</td>\n",
       "      <td>22.00</td>\n",
       "    </tr>\n",
       "    <tr>\n",
       "      <th>3</th>\n",
       "      <td>536365</td>\n",
       "      <td>84029G</td>\n",
       "      <td>KNITTED UNION FLAG HOT WATER BOTTLE</td>\n",
       "      <td>6</td>\n",
       "      <td>2010-12-01 08:26:00</td>\n",
       "      <td>3.39</td>\n",
       "      <td>17850</td>\n",
       "      <td>United Kingdom</td>\n",
       "      <td>20.34</td>\n",
       "    </tr>\n",
       "    <tr>\n",
       "      <th>4</th>\n",
       "      <td>536365</td>\n",
       "      <td>84029E</td>\n",
       "      <td>RED WOOLLY HOTTIE WHITE HEART.</td>\n",
       "      <td>6</td>\n",
       "      <td>2010-12-01 08:26:00</td>\n",
       "      <td>3.39</td>\n",
       "      <td>17850</td>\n",
       "      <td>United Kingdom</td>\n",
       "      <td>20.34</td>\n",
       "    </tr>\n",
       "  </tbody>\n",
       "</table>\n",
       "</div>"
      ],
      "text/plain": [
       "  InvoiceNo StockCode                          Description  Quantity  \\\n",
       "0    536365    85123A   WHITE HANGING HEART T-LIGHT HOLDER         6   \n",
       "1    536365     71053                  WHITE METAL LANTERN         6   \n",
       "2    536365    84406B       CREAM CUPID HEARTS COAT HANGER         8   \n",
       "3    536365    84029G  KNITTED UNION FLAG HOT WATER BOTTLE         6   \n",
       "4    536365    84029E       RED WOOLLY HOTTIE WHITE HEART.         6   \n",
       "\n",
       "          InvoiceDate  UnitPrice CustomerID         Country  TotalItemPrice  \n",
       "0 2010-12-01 08:26:00       2.55      17850  United Kingdom           15.30  \n",
       "1 2010-12-01 08:26:00       3.39      17850  United Kingdom           20.34  \n",
       "2 2010-12-01 08:26:00       2.75      17850  United Kingdom           22.00  \n",
       "3 2010-12-01 08:26:00       3.39      17850  United Kingdom           20.34  \n",
       "4 2010-12-01 08:26:00       3.39      17850  United Kingdom           20.34  "
      ]
     },
     "execution_count": 197,
     "metadata": {},
     "output_type": "execute_result"
    }
   ],
   "source": [
    "df.head()"
   ]
  },
  {
   "cell_type": "code",
   "execution_count": 198,
   "metadata": {
    "_cell_guid": "62aada7f-1d61-493e-a044-08fcc7bdfb81",
    "_kg_hide-input": true,
    "_uuid": "4ae364672f6cede623fd0e032e34d967e4f32ee1",
    "collapsed": true
   },
   "outputs": [],
   "source": [
    "is_noun = lambda pos: pos[:2] == 'NN'\n",
    "\n",
    "def keywords_inventory(df, colonne = 'Description'):\n",
    "    stemmer = nltk.stem.SnowballStemmer(\"english\")\n",
    "    keywords_roots  = dict()  # collect the words / root\n",
    "    keywords_select = dict()  # association: root <-> keyword\n",
    "    category_keys   = []\n",
    "    count_keywords  = dict()\n",
    "    icount = 0\n",
    "    for s in df[colonne]:\n",
    "        if pd.isnull(s): continue\n",
    "        lines = s.lower()\n",
    "        tokenized = nltk.word_tokenize(lines)\n",
    "        nouns = [word for (word, pos) in nltk.pos_tag(tokenized) if is_noun(pos)] \n",
    "        \n",
    "        for t in nouns:\n",
    "            t = t.lower() ; racine = stemmer.stem(t)\n",
    "            if racine in keywords_roots:                \n",
    "                keywords_roots[racine].add(t)\n",
    "                count_keywords[racine] += 1                \n",
    "            else:\n",
    "                keywords_roots[racine] = {t}\n",
    "                count_keywords[racine] = 1\n",
    "    \n",
    "    for s in keywords_roots.keys():\n",
    "        if len(keywords_roots[s]) > 1:  \n",
    "            min_length = 1000\n",
    "            for k in keywords_roots[s]:\n",
    "                if len(k) < min_length:\n",
    "                    clef = k ; min_length = len(k)            \n",
    "            category_keys.append(clef)\n",
    "            keywords_select[s] = clef\n",
    "        else:\n",
    "            category_keys.append(list(keywords_roots[s])[0])\n",
    "            keywords_select[s] = list(keywords_roots[s])[0]\n",
    "                   \n",
    "    print(\"Nb of keywords in variable '{}': {}\".format(colonne,len(category_keys)))\n",
    "    return category_keys, keywords_roots, keywords_select, count_keywords"
   ]
  },
  {
   "cell_type": "markdown",
   "metadata": {
    "_cell_guid": "309b7a7d-7643-42b1-a31a-7d89ee7599fb",
    "_uuid": "6b0912baaab28d1f50a54dc5300c3391aa676424"
   },
   "source": [
    "This function takes as input the dataframe and analyzes the content of the **Description** column by performing the following operations:\n",
    "\n",
    "- extract the names (proper, common) appearing in the products description\n",
    "- for each name, I extract the root of the word and aggregate the set of names associated with this particular root\n",
    "- count the number of times each root appears in the dataframe\n",
    "- when several words are listed for the same root, I consider that the keyword associated with this root is the shortest name (this systematically selects the singular when there are singular/plural variants)\n",
    "\n",
    "The first step of the analysis is to retrieve the list of products:"
   ]
  },
  {
   "cell_type": "code",
   "execution_count": 199,
   "metadata": {
    "_cell_guid": "f4da3052-c465-47bf-9652-a10a8ac51eb6",
    "_kg_hide-input": true,
    "_uuid": "1239a65ae122b1c020db626e5167451a950d8226",
    "collapsed": true
   },
   "outputs": [],
   "source": [
    "df_products = pd.DataFrame(df['Description'].unique()).rename(columns = {0:'Description'})"
   ]
  },
  {
   "cell_type": "markdown",
   "metadata": {
    "_cell_guid": "99e7be34-0776-4834-8563-a3921307eca8",
    "_uuid": "2c928de8c651e41413c0196efda0b6f71cd26993"
   },
   "source": [
    "Once this list is created, I use the function I previously defined in order to analyze the description of the various products:"
   ]
  },
  {
   "cell_type": "code",
   "execution_count": 200,
   "metadata": {},
   "outputs": [],
   "source": [
    "import nltk"
   ]
  },
  {
   "cell_type": "code",
   "execution_count": 201,
   "metadata": {
    "_cell_guid": "f52a4134-c9c7-4d17-8510-8f55b1530cbb",
    "_kg_hide-input": true,
    "_uuid": "38c4872616b2c40bf69982070165cc9db3d0ea69"
   },
   "outputs": [
    {
     "name": "stdout",
     "output_type": "stream",
     "text": [
      "Nb of keywords in variable 'Description': 1476\n"
     ]
    }
   ],
   "source": [
    "keywords, keywords_roots, keywords_select, count_keywords = keywords_inventory(df_products)"
   ]
  },
  {
   "cell_type": "markdown",
   "metadata": {
    "_cell_guid": "e05fb8ef-6735-4a62-9161-8bd11f34ba1f",
    "_uuid": "5d664ec4f8c3239f9bf2f4f8ab6a2ec6bfd46edb"
   },
   "source": [
    "The execution of this function returns three variables:\n",
    "- `keywords`: the list of extracted keywords\n",
    "- `keywords_roots`: a dictionary where the keys are the keywords roots and the values are the lists of words associated with those roots\n",
    "- `count_keywords`: dictionary listing the number of times every word is used\n",
    "\n",
    "At this point, I convert the `count_keywords` dictionary into a list, to sort the keywords according to their occurences:"
   ]
  },
  {
   "cell_type": "code",
   "execution_count": 202,
   "metadata": {
    "_cell_guid": "e033781a-8038-4302-93ed-78966554b7cc",
    "_kg_hide-input": true,
    "_uuid": "66fb955b137916f16d838f95a6f5bbe5e4952334",
    "collapsed": true
   },
   "outputs": [],
   "source": [
    "list_products = []\n",
    "for k,v in count_keywords.items():\n",
    "    list_products.append([keywords_select[k],v])\n",
    "list_products.sort(key = lambda x:x[1], reverse = True)"
   ]
  },
  {
   "cell_type": "markdown",
   "metadata": {
    "_cell_guid": "19e873fa-7863-40a5-ac2b-459e5fb0e3c1",
    "_uuid": "41cecbbaa4d5d5ced22d0151edb4cfa5cc8da179"
   },
   "source": [
    "Using it, I create a representation of the most common keywords:"
   ]
  },
  {
   "cell_type": "code",
   "execution_count": 203,
   "metadata": {
    "_cell_guid": "d6c78812-343e-41af-8e4e-ef0292dc4f7e",
    "_kg_hide-input": true,
    "_uuid": "fcdf4d98e372a1d65c931b7a6d5c29f269938022"
   },
   "outputs": [
    {
     "data": {
      "image/png": "[encoded data removed]",
      "text/plain": [
       "<matplotlib.figure.Figure at 0x1f61280c0f0>"
      ]
     },
     "metadata": {},
     "output_type": "display_data"
    }
   ],
   "source": [
    "liste = sorted(list_products, key = lambda x:x[1], reverse = True)\n",
    "#_______________________________\n",
    "plt.rc('font', weight='normal')\n",
    "fig, ax = plt.subplots(figsize=(7, 25))\n",
    "y_axis = [i[1] for i in liste[:125]]\n",
    "x_axis = [k for k,i in enumerate(liste[:125])]\n",
    "x_label = [i[0] for i in liste[:125]]\n",
    "plt.xticks(fontsize = 15)\n",
    "plt.yticks(fontsize = 13)\n",
    "plt.yticks(x_axis, x_label)\n",
    "plt.xlabel(\"Nb. of occurences\", fontsize = 18, labelpad = 10)\n",
    "ax.barh(x_axis, y_axis, align = 'center')\n",
    "ax = plt.gca()\n",
    "ax.invert_yaxis()\n",
    "#_______________________________________________________________________________________\n",
    "plt.title(\"Words occurence\",bbox={'facecolor':'k', 'pad':5}, color='w',fontsize = 25)\n",
    "plt.show()"
   ]
  },
  {
   "cell_type": "markdown",
   "metadata": {
    "_cell_guid": "e4170374-92b0-4063-9962-a80d36911891",
    "_uuid": "9308d23b2ccc25eb87f324f0da0616d768340739"
   },
   "source": [
    "___\n",
    "### 4.2 Defining product categories <a class=\"anchor\" id=\"4.2-bullet\"></a>"
   ]
  },
  {
   "cell_type": "markdown",
   "metadata": {
    "_cell_guid": "ba5e6966-49e7-4a3d-84cf-9fe809e8315b",
    "_uuid": "5f375df32988b2bb559c77ad5c8d244472ae39f4"
   },
   "source": [
    "The list that was obtained contains more than 1400 keywords and the most frequent ones appear in more than 200 products. However, while examinating the content of the list, I note that some names are useless. Others are do not carry information, like colors. Therefore, I discard these words from the analysis that follows and also, I decide to consider only the words that appear more than 13 times."
   ]
  },
  {
   "cell_type": "code",
   "execution_count": 204,
   "metadata": {
    "_cell_guid": "43300478-3b5a-4c7a-9466-34c384ccae60",
    "_kg_hide-input": true,
    "_uuid": "5f42482995f36f15688d8cba7f903e1277da5f92"
   },
   "outputs": [
    {
     "name": "stdout",
     "output_type": "stream",
     "text": [
      "mots conservés: 190\n"
     ]
    }
   ],
   "source": [
    "list_products = []\n",
    "for k,v in count_keywords.items():\n",
    "    word = keywords_select[k]\n",
    "    if word in ['pink', 'blue', 'tag', 'green', 'orange']: continue\n",
    "    if len(word) < 3 or v < 13: continue\n",
    "    if ('+' in word) or ('/' in word): continue\n",
    "    list_products.append([word, v])\n",
    "#______________________________________________________    \n",
    "list_products.sort(key = lambda x:x[1], reverse = True)\n",
    "print('mots conservés:', len(list_products))"
   ]
  },
  {
   "cell_type": "markdown",
   "metadata": {
    "_cell_guid": "68fa97e5-a7c6-4d65-8da6-8fddff742991",
    "_uuid": "fb4589b360ac2ebefebb66f710a6ba757c0ea203"
   },
   "source": [
    "____\n",
    "#### 4.2.1 Data encoding <a class=\"anchor\" id=\"4.2.1-bullet\"></a>\n",
    "\n",
    "Now I will use these keywords to create groups of product. Firstly, I define the $X$ matrix as:"
   ]
  },
  {
   "cell_type": "markdown",
   "metadata": {
    "_cell_guid": "53f64d8a-69f2-4151-9b1f-4ea7ec3543e9",
    "_uuid": "72e6253ce03dcc5a6dc55c3795d015554378ff6e"
   },
   "source": [
    "   \n",
    "|   | mot 1  |  ...  | mot j  | ...  | mot N  |\n",
    "|:-:|---|---|---|---|---|\n",
    "| produit 1  | $a_{1,1}$  |     |   |   | $a_{1,N}$  |\n",
    "| ...        |            |     | ...  |   |   |\n",
    "|produit i   |    ...     |     | $a_{i,j}$    |   | ...  |\n",
    "|...         |            |     |  ... |   |   |\n",
    "| produit M  | $a_{M,1}$  |     |   |   | $a_{M,N}$   |"
   ]
  },
  {
   "cell_type": "markdown",
   "metadata": {
    "_cell_guid": "3879eff1-3a5e-480e-ac71-3ec4522d83f6",
    "_uuid": "53e086f7d5b756c4f8e59e73b85029c9c807e079"
   },
   "source": [
    "where the $a_ {i, j}$ coefficient  is 1 if the description of the product $i$ contains the word $j$, and 0 otherwise."
   ]
  },
  {
   "cell_type": "code",
   "execution_count": 205,
   "metadata": {
    "_cell_guid": "23c77363-438b-4694-9b52-960c0ab3aa82",
    "_kg_hide-input": true,
    "_uuid": "d6faac7eb01d2251fb221569b75e007c8d5146aa"
   },
   "outputs": [],
   "source": [
    "liste_produits = df['Description'].unique()\n",
    "X = pd.DataFrame()\n",
    "for key, occurence in list_products:\n",
    "    X.loc[:, key] = list(map(lambda x:int(key.upper() in x), liste_produits))"
   ]
  },
  {
   "cell_type": "markdown",
   "metadata": {
    "_cell_guid": "36f23fa9-72a3-4b71-a76a-5cf2ff57b7ae",
    "_uuid": "378466327c5da8166c75812b43057b119b46e0f9"
   },
   "source": [
    "The $X$ matrix indicates the words contained in the description of the products using the *one-hot-encoding* principle. In practice, I have found that introducing the price range results in more balanced groups in terms of element numbers.\n",
    "Hence, I add 6 extra columns to this matrix, where I indicate the price range of the products:"
   ]
  },
  {
   "cell_type": "code",
   "execution_count": 206,
   "metadata": {
    "_cell_guid": "739c9cb1-3278-4d3a-a412-25dd2e8bc7c4",
    "_kg_hide-input": true,
    "_uuid": "b26a6bc55b61d0bcaccaf7c303b90d2a04636ac4"
   },
   "outputs": [],
   "source": [
    "threshold = [0, 1, 2, 3, 5, 10]\n",
    "label_col = []\n",
    "for i in range(len(threshold)):\n",
    "    if i == len(threshold)-1:\n",
    "        col = '.>{}'.format(threshold[i])\n",
    "    else:\n",
    "        col = '{}<.<{}'.format(threshold[i],threshold[i+1])\n",
    "    label_col.append(col)\n",
    "    X.loc[:, col] = 0\n",
    "\n",
    "for i, prod in enumerate(liste_produits):\n",
    "    prix = df[df['Description'] == prod]['UnitPrice'].mean()\n",
    "    j = 0\n",
    "    while prix > threshold[j]:\n",
    "        j+=1\n",
    "        if j == len(threshold): break\n",
    "    X.loc[i, label_col[j-1]] = 1"
   ]
  },
  {
   "cell_type": "markdown",
   "metadata": {
    "_cell_guid": "5c1ac4b1-3bfa-4aac-8329-d5d923f7d08d",
    "_uuid": "d6551f396773df6fbf7a49a9985583d20e6a58be"
   },
   "source": [
    "and to choose the appropriate ranges, I check the number of products in the different groups:"
   ]
  },
  {
   "cell_type": "code",
   "execution_count": 207,
   "metadata": {
    "_cell_guid": "8587b9a3-d3a6-41ed-ac8a-9e0cdc9af31e",
    "_kg_hide-input": true,
    "_uuid": "6ad9fc6ed72057c63594d9d97d89742202f064f7"
   },
   "outputs": [
    {
     "name": "stdout",
     "output_type": "stream",
     "text": [
      "gamme    nb. produits         \n",
      "--------------------\n",
      "0<.<1       964                 \n",
      "1<.<2       1008                \n",
      "2<.<3       673                 \n",
      "3<.<5       608                 \n",
      "5<.<10      468                 \n",
      ".>10        155                 \n"
     ]
    }
   ],
   "source": [
    "print(\"{:<8} {:<20} \\n\".format('gamme', 'nb. produits') + 20*'-')\n",
    "for i in range(len(threshold)):\n",
    "    if i == len(threshold)-1:\n",
    "        col = '.>{}'.format(threshold[i])\n",
    "    else:\n",
    "        col = '{}<.<{}'.format(threshold[i],threshold[i+1])    \n",
    "    print(\"{:<10}  {:<20}\".format(col, X.loc[:, col].sum()))"
   ]
  },
  {
   "cell_type": "markdown",
   "metadata": {
    "_cell_guid": "026d2968-dbd2-46c4-bc39-24c147febb0b",
    "_uuid": "86e19d385e6849a17b262b627028e5aad7575b28"
   },
   "source": [
    "____\n",
    "#### 4.2.2 Creating clusters of products <a class=\"anchor\" id=\"4.2.2-bullet\"></a>\n",
    "\n",
    "In this section, I will group the products into different classes. In the case of matrices with binary encoding, the most suitable metric for the calculation of distances is the [Hamming's metric](https://en.wikipedia.org/wiki/Distance_de_Hamming). Note that the **kmeans** method of sklearn uses a Euclidean distance that can be used, but it is not to the best choice in the case of categorical variables. However, in order to use the Hamming's metric, we need to use the [kmodes](https://pypi.python.org/pypi/kmodes/) package which is not available on the current plateform. Hence, I use the **kmeans** method even if this is not the best choice.\n",
    "\n",
    "In order to define (approximately) the number of clusters that best represents the data, I use the silhouette score:"
   ]
  },
  {
   "cell_type": "code",
   "execution_count": 208,
   "metadata": {
    "_cell_guid": "1c81a7c3-8980-4941-9082-7bf5cf92fc14",
    "_kg_hide-input": true,
    "_uuid": "4ce8586584935e81b9e403ea7a1dd4b2e4c9992e"
   },
   "outputs": [
    {
     "name": "stdout",
     "output_type": "stream",
     "text": [
      "For n_clusters = 3 The average silhouette_score is : 0.102693217279\n",
      "For n_clusters = 4 The average silhouette_score is : 0.126836823585\n",
      "For n_clusters = 5 The average silhouette_score is : 0.148610896778\n",
      "For n_clusters = 6 The average silhouette_score is : 0.151633474733\n",
      "For n_clusters = 7 The average silhouette_score is : 0.151304982982\n",
      "For n_clusters = 8 The average silhouette_score is : 0.146828100376\n",
      "For n_clusters = 9 The average silhouette_score is : 0.162208449332\n"
     ]
    }
   ],
   "source": [
    "matrix = X.as_matrix()\n",
    "for n_clusters in range(3,10):\n",
    "    kmeans = KMeans(init='k-means++', n_clusters = n_clusters, n_init=30)\n",
    "    kmeans.fit(matrix)\n",
    "    clusters = kmeans.predict(matrix)\n",
    "    silhouette_avg = silhouette_score(matrix, clusters)\n",
    "    print(\"For n_clusters =\", n_clusters, \"The average silhouette_score is :\", silhouette_avg)"
   ]
  },
  {
   "cell_type": "markdown",
   "metadata": {
    "_cell_guid": "bc57a3e3-9560-47bb-8eb3-3fb1d31f7ad4",
    "_uuid": "6dc86eefc7a90409489f87051c3b33e8cb95ac0a"
   },
   "source": [
    "In practice, the scores obtained above can be considered equivalent since, depending on the run, scores of $ 0.1 \\pm 0.05 $ will be obtained for all clusters with `n_clusters` $> $ 3 (we obtain slightly lower scores for the first cluster). On the other hand, I found that beyond 5 clusters, some clusters contained very few elements. I therefore choose to separate the dataset into 5 clusters. In order to ensure a good classification at every run of the notebook, I iterate untill we obtain the best possible silhouette score, which is, in the present case, around 0.15:"
   ]
  },
  {
   "cell_type": "code",
   "execution_count": 211,
   "metadata": {
    "_cell_guid": "b29b3bb2-ef8d-4d7f-a19e-52045018ab8e",
    "_kg_hide-input": true,
    "_uuid": "72dd5bdab528264518bf034b84f66f3c29500fca"
   },
   "outputs": [
    {
     "name": "stdout",
     "output_type": "stream",
     "text": [
      "For n_clusters = 5 The average silhouette_score is : 0.840337765257\n"
     ]
    }
   ],
   "source": [
    "n_clusters = 5\n",
    "silhouette_avg = -1\n",
    "while silhouette_avg < 0.145:\n",
    "    kmeans = KMeans(init='k-means++', n_clusters = n_clusters, n_init=30)\n",
    "    kmeans.fit(matrix)\n",
    "    clusters = kmeans.predict(matrix)\n",
    "    silhouette_avg = silhouette_score(matrix, clusters)\n",
    "    \n",
    "    #km = kmodes.KModes(n_clusters = n_clusters, init='Huang', n_init=2, verbose=0)\n",
    "    #clusters = km.fit_predict(matrix)\n",
    "    #silhouette_avg = silhouette_score(matrix, clusters)\n",
    "    print(\"For n_clusters =\", n_clusters, \"The average silhouette_score is :\", silhouette_avg)"
   ]
  },
  {
   "cell_type": "markdown",
   "metadata": {
    "_cell_guid": "1f146c21-7d21-46d4-95f1-a788041957a0",
    "_uuid": "d211d2cc238a1d019469ba922081df9383b91d68"
   },
   "source": [
    "___\n",
    "#### 4.2.3  Characterizing the content of clusters <a class=\"anchor\" id=\"4.2.3-bullet\"></a>"
   ]
  },
  {
   "cell_type": "markdown",
   "metadata": {
    "_cell_guid": "ac1facaf-0be9-412d-bddf-cae0e920bd33",
    "_uuid": "f793937b3c3c83bc14af54d1d00543a2af26034a"
   },
   "source": [
    "I check the number of elements in every class:"
   ]
  },
  {
   "cell_type": "code",
   "execution_count": 212,
   "metadata": {
    "_cell_guid": "ad66161e-87ba-42ca-8128-bda16b470a34",
    "_kg_hide-input": true,
    "_uuid": "83591dd72975afde6a85d70429add02bd278c125"
   },
   "outputs": [
    {
     "data": {
      "text/plain": [
       "0    9497\n",
       "3     393\n",
       "2      41\n",
       "1      12\n",
       "4       5\n",
       "dtype: int64"
      ]
     },
     "execution_count": 212,
     "metadata": {},
     "output_type": "execute_result"
    }
   ],
   "source": [
    "pd.Series(clusters).value_counts()"
   ]
  },
  {
   "cell_type": "markdown",
   "metadata": {
    "_cell_guid": "f5e26953-89a2-4f19-92a2-afaaa2c71e94",
    "_uuid": "3f463103c3107547c46e737a6bf44875b628f4eb"
   },
   "source": [
    "\n",
    "** a. _Silhouette intra-cluster score_ **\n",
    "\n",
    "In order to have an insight on the quality of the classification, we can represent the silhouette scores of each element of the different clusters. This is the purpose of the next figure which is taken from the [sklearn documentation](http://scikit-learn.org/stable/auto_examples/cluster/plot_kmeans_silhouette_analysis.html):"
   ]
  },
  {
   "cell_type": "code",
   "execution_count": 225,
   "metadata": {
    "_cell_guid": "c2b26710-2269-47e5-8f0d-98f6eac0015a",
    "_kg_hide-input": true,
    "_uuid": "e9e48bbbc3bb0ffa8134175aefb1fe808dea33e8",
    "collapsed": true
   },
   "outputs": [],
   "source": [
    "def graph_component_silhouette(n_clusters, lim_x, mat_size, sample_silhouette_values, clusters):\n",
    "    plt.rcParams[\"patch.force_edgecolor\"] = True\n",
    "    plt.style.use('fivethirtyeight')\n",
    "    mpl.rc('patch', edgecolor = 'dimgray', linewidth=1)\n",
    "    #____________________________\n",
    "    fig, ax1 = plt.subplots(1, 1)\n",
    "    fig.set_size_inches(8, 8)\n",
    "    ax1.set_xlim([lim_x[0], lim_x[1]])\n",
    "    ax1.set_ylim([0, mat_size + (n_clusters + 1) * 10])\n",
    "    y_lower = 10\n",
    "    for i in range(n_clusters):\n",
    "        #___________________________________________________________________________________\n",
    "        # Aggregate the silhouette scores for samples belonging to cluster i, and sort them\n",
    "        ith_cluster_silhouette_values = sample_silhouette_values[clusters == i]\n",
    "        ith_cluster_silhouette_values.sort()\n",
    "        size_cluster_i = ith_cluster_silhouette_values.shape[0]\n",
    "        y_upper = y_lower + size_cluster_i\n",
    "        color = cm.spectral(float(i) / n_clusters)        \n",
    "        ax1.fill_betweenx(np.arange(y_lower, y_upper), 0, ith_cluster_silhouette_values,\n",
    "                           facecolor=color, edgecolor=color, alpha=0.8)\n",
    "        #____________________________________________________________________\n",
    "        # Label the silhouette plots with their cluster numbers at the middle\n",
    "        ax1.text(-0.03, y_lower + 0.5 * size_cluster_i, str(i), color = 'red', fontweight = 'bold',\n",
    "                bbox=dict(facecolor='white', edgecolor='black', boxstyle='round, pad=0.3'))\n",
    "        #______________________________________\n",
    "        # Compute the new y_lower for next plot\n",
    "        y_lower = y_upper + 10  "
   ]
  },
  {
   "cell_type": "code",
   "execution_count": 226,
   "metadata": {
    "_cell_guid": "8ee417cb-29d9-4913-8e12-0c020ecde059",
    "_kg_hide-input": true,
    "_uuid": "cf9b40ed0d865401e4a05e06eec2bff97ace7059"
   },
   "outputs": [
    {
     "data": {
      "image/png": "[encoded data removed]",
      "text/plain": [
       "<matplotlib.figure.Figure at 0x1f61b1c2a90>"
      ]
     },
     "metadata": {},
     "output_type": "display_data"
    }
   ],
   "source": [
    "#____________________________________\n",
    "# define individual silouhette scores\n",
    "sample_silhouette_values = silhouette_samples(matrix, clusters)\n",
    "#__________________\n",
    "# and do the graph\n",
    "graph_component_silhouette(n_clusters, [-0.07, 0.33], len(X), sample_silhouette_values, clusters)"
   ]
  },
  {
   "cell_type": "markdown",
   "metadata": {
    "_cell_guid": "24c08c3e-d642-4482-b86f-f5c85cbed038",
    "_uuid": "6662f37da64de5d5951efa1c8f0bd9409ab6e9b4"
   },
   "source": [
    "** b. _Word Cloud_**\n",
    "\n",
    "Now we can have a look at the type of objects that each cluster represents. In order to obtain a global view of their contents, I determine which keywords are the most frequent in each of them"
   ]
  },
  {
   "cell_type": "code",
   "execution_count": 227,
   "metadata": {},
   "outputs": [
    {
     "ename": "KeyError",
     "evalue": "IndexError('indices are out-of-bounds',)",
     "output_type": "error",
     "traceback": [
      "\u001b[1;31m---------------------------------------------------------------------------\u001b[0m",
      "\u001b[1;31mIndexError\u001b[0m                                Traceback (most recent call last)",
      "\u001b[1;32m~\\Anaconda3\\lib\\site-packages\\pandas\\core\\indexing.py\u001b[0m in \u001b[0;36m_getbool_axis\u001b[1;34m(self, key, axis)\u001b[0m\n\u001b[0;32m   1343\u001b[0m         \u001b[1;32mtry\u001b[0m\u001b[1;33m:\u001b[0m\u001b[1;33m\u001b[0m\u001b[0m\n\u001b[1;32m-> 1344\u001b[1;33m             \u001b[1;32mreturn\u001b[0m \u001b[0mself\u001b[0m\u001b[1;33m.\u001b[0m\u001b[0mobj\u001b[0m\u001b[1;33m.\u001b[0m\u001b[0mtake\u001b[0m\u001b[1;33m(\u001b[0m\u001b[0minds\u001b[0m\u001b[1;33m,\u001b[0m \u001b[0maxis\u001b[0m\u001b[1;33m=\u001b[0m\u001b[0maxis\u001b[0m\u001b[1;33m,\u001b[0m \u001b[0mconvert\u001b[0m\u001b[1;33m=\u001b[0m\u001b[1;32mFalse\u001b[0m\u001b[1;33m)\u001b[0m\u001b[1;33m\u001b[0m\u001b[0m\n\u001b[0m\u001b[0;32m   1345\u001b[0m         \u001b[1;32mexcept\u001b[0m \u001b[0mException\u001b[0m \u001b[1;32mas\u001b[0m \u001b[0mdetail\u001b[0m\u001b[1;33m:\u001b[0m\u001b[1;33m\u001b[0m\u001b[0m\n",
      "\u001b[1;32m~\\Anaconda3\\lib\\site-packages\\pandas\\core\\generic.py\u001b[0m in \u001b[0;36mtake\u001b[1;34m(self, indices, axis, convert, is_copy, **kwargs)\u001b[0m\n\u001b[0;32m   1927\u001b[0m                                    \u001b[0maxis\u001b[0m\u001b[1;33m=\u001b[0m\u001b[0mself\u001b[0m\u001b[1;33m.\u001b[0m\u001b[0m_get_block_manager_axis\u001b[0m\u001b[1;33m(\u001b[0m\u001b[0maxis\u001b[0m\u001b[1;33m)\u001b[0m\u001b[1;33m,\u001b[0m\u001b[1;33m\u001b[0m\u001b[0m\n\u001b[1;32m-> 1928\u001b[1;33m                                    convert=True, verify=True)\n\u001b[0m\u001b[0;32m   1929\u001b[0m         \u001b[0mresult\u001b[0m \u001b[1;33m=\u001b[0m \u001b[0mself\u001b[0m\u001b[1;33m.\u001b[0m\u001b[0m_constructor\u001b[0m\u001b[1;33m(\u001b[0m\u001b[0mnew_data\u001b[0m\u001b[1;33m)\u001b[0m\u001b[1;33m.\u001b[0m\u001b[0m__finalize__\u001b[0m\u001b[1;33m(\u001b[0m\u001b[0mself\u001b[0m\u001b[1;33m)\u001b[0m\u001b[1;33m\u001b[0m\u001b[0m\n",
      "\u001b[1;32m~\\Anaconda3\\lib\\site-packages\\pandas\\core\\internals.py\u001b[0m in \u001b[0;36mtake\u001b[1;34m(self, indexer, axis, verify, convert)\u001b[0m\n\u001b[0;32m   4001\u001b[0m         \u001b[1;32mif\u001b[0m \u001b[0mconvert\u001b[0m\u001b[1;33m:\u001b[0m\u001b[1;33m\u001b[0m\u001b[0m\n\u001b[1;32m-> 4002\u001b[1;33m             \u001b[0mindexer\u001b[0m \u001b[1;33m=\u001b[0m \u001b[0mmaybe_convert_indices\u001b[0m\u001b[1;33m(\u001b[0m\u001b[0mindexer\u001b[0m\u001b[1;33m,\u001b[0m \u001b[0mn\u001b[0m\u001b[1;33m)\u001b[0m\u001b[1;33m\u001b[0m\u001b[0m\n\u001b[0m\u001b[0;32m   4003\u001b[0m \u001b[1;33m\u001b[0m\u001b[0m\n",
      "\u001b[1;32m~\\Anaconda3\\lib\\site-packages\\pandas\\core\\indexing.py\u001b[0m in \u001b[0;36mmaybe_convert_indices\u001b[1;34m(indices, n)\u001b[0m\n\u001b[0;32m   1996\u001b[0m     \u001b[1;32mif\u001b[0m \u001b[0mmask\u001b[0m\u001b[1;33m.\u001b[0m\u001b[0many\u001b[0m\u001b[1;33m(\u001b[0m\u001b[1;33m)\u001b[0m\u001b[1;33m:\u001b[0m\u001b[1;33m\u001b[0m\u001b[0m\n\u001b[1;32m-> 1997\u001b[1;33m         \u001b[1;32mraise\u001b[0m \u001b[0mIndexError\u001b[0m\u001b[1;33m(\u001b[0m\u001b[1;34m\"indices are out-of-bounds\"\u001b[0m\u001b[1;33m)\u001b[0m\u001b[1;33m\u001b[0m\u001b[0m\n\u001b[0m\u001b[0;32m   1998\u001b[0m     \u001b[1;32mreturn\u001b[0m \u001b[0mindices\u001b[0m\u001b[1;33m\u001b[0m\u001b[0m\n",
      "\u001b[1;31mIndexError\u001b[0m: indices are out-of-bounds",
      "\nDuring handling of the above exception, another exception occurred:\n",
      "\u001b[1;31mKeyError\u001b[0m                                  Traceback (most recent call last)",
      "\u001b[1;32m<ipython-input-227-d03eefb12fdb>\u001b[0m in \u001b[0;36m<module>\u001b[1;34m()\u001b[0m\n\u001b[0;32m      5\u001b[0m \u001b[1;33m\u001b[0m\u001b[0m\n\u001b[0;32m      6\u001b[0m \u001b[1;32mfor\u001b[0m \u001b[0mi\u001b[0m \u001b[1;32min\u001b[0m \u001b[0mrange\u001b[0m\u001b[1;33m(\u001b[0m\u001b[0mn_clusters\u001b[0m\u001b[1;33m)\u001b[0m\u001b[1;33m:\u001b[0m\u001b[1;33m\u001b[0m\u001b[0m\n\u001b[1;32m----> 7\u001b[1;33m     \u001b[0mliste_cluster\u001b[0m \u001b[1;33m=\u001b[0m \u001b[0mliste\u001b[0m\u001b[1;33m.\u001b[0m\u001b[0mloc\u001b[0m\u001b[1;33m[\u001b[0m\u001b[0mclusters\u001b[0m \u001b[1;33m==\u001b[0m \u001b[0mi\u001b[0m\u001b[1;33m]\u001b[0m\u001b[1;33m\u001b[0m\u001b[0m\n\u001b[0m\u001b[0;32m      8\u001b[0m     \u001b[1;32mfor\u001b[0m \u001b[0mword\u001b[0m \u001b[1;32min\u001b[0m \u001b[0mliste_words\u001b[0m\u001b[1;33m:\u001b[0m\u001b[1;33m\u001b[0m\u001b[0m\n\u001b[0;32m      9\u001b[0m         \u001b[1;32mif\u001b[0m \u001b[0mword\u001b[0m \u001b[1;32min\u001b[0m \u001b[1;33m[\u001b[0m\u001b[1;34m'art'\u001b[0m\u001b[1;33m,\u001b[0m \u001b[1;34m'set'\u001b[0m\u001b[1;33m,\u001b[0m \u001b[1;34m'heart'\u001b[0m\u001b[1;33m,\u001b[0m \u001b[1;34m'pink'\u001b[0m\u001b[1;33m,\u001b[0m \u001b[1;34m'blue'\u001b[0m\u001b[1;33m,\u001b[0m \u001b[1;34m'tag'\u001b[0m\u001b[1;33m]\u001b[0m\u001b[1;33m:\u001b[0m \u001b[1;32mcontinue\u001b[0m\u001b[1;33m\u001b[0m\u001b[0m\n",
      "\u001b[1;32m~\\Anaconda3\\lib\\site-packages\\pandas\\core\\indexing.py\u001b[0m in \u001b[0;36m__getitem__\u001b[1;34m(self, key)\u001b[0m\n\u001b[0;32m   1326\u001b[0m         \u001b[1;32melse\u001b[0m\u001b[1;33m:\u001b[0m\u001b[1;33m\u001b[0m\u001b[0m\n\u001b[0;32m   1327\u001b[0m             \u001b[0mkey\u001b[0m \u001b[1;33m=\u001b[0m \u001b[0mcom\u001b[0m\u001b[1;33m.\u001b[0m\u001b[0m_apply_if_callable\u001b[0m\u001b[1;33m(\u001b[0m\u001b[0mkey\u001b[0m\u001b[1;33m,\u001b[0m \u001b[0mself\u001b[0m\u001b[1;33m.\u001b[0m\u001b[0mobj\u001b[0m\u001b[1;33m)\u001b[0m\u001b[1;33m\u001b[0m\u001b[0m\n\u001b[1;32m-> 1328\u001b[1;33m             \u001b[1;32mreturn\u001b[0m \u001b[0mself\u001b[0m\u001b[1;33m.\u001b[0m\u001b[0m_getitem_axis\u001b[0m\u001b[1;33m(\u001b[0m\u001b[0mkey\u001b[0m\u001b[1;33m,\u001b[0m \u001b[0maxis\u001b[0m\u001b[1;33m=\u001b[0m\u001b[1;36m0\u001b[0m\u001b[1;33m)\u001b[0m\u001b[1;33m\u001b[0m\u001b[0m\n\u001b[0m\u001b[0;32m   1329\u001b[0m \u001b[1;33m\u001b[0m\u001b[0m\n\u001b[0;32m   1330\u001b[0m     \u001b[1;32mdef\u001b[0m \u001b[0m_is_scalar_access\u001b[0m\u001b[1;33m(\u001b[0m\u001b[0mself\u001b[0m\u001b[1;33m,\u001b[0m \u001b[0mkey\u001b[0m\u001b[1;33m)\u001b[0m\u001b[1;33m:\u001b[0m\u001b[1;33m\u001b[0m\u001b[0m\n",
      "\u001b[1;32m~\\Anaconda3\\lib\\site-packages\\pandas\\core\\indexing.py\u001b[0m in \u001b[0;36m_getitem_axis\u001b[1;34m(self, key, axis)\u001b[0m\n\u001b[0;32m   1506\u001b[0m             \u001b[1;32mreturn\u001b[0m \u001b[0mself\u001b[0m\u001b[1;33m.\u001b[0m\u001b[0m_get_slice_axis\u001b[0m\u001b[1;33m(\u001b[0m\u001b[0mkey\u001b[0m\u001b[1;33m,\u001b[0m \u001b[0maxis\u001b[0m\u001b[1;33m=\u001b[0m\u001b[0maxis\u001b[0m\u001b[1;33m)\u001b[0m\u001b[1;33m\u001b[0m\u001b[0m\n\u001b[0;32m   1507\u001b[0m         \u001b[1;32melif\u001b[0m \u001b[0mis_bool_indexer\u001b[0m\u001b[1;33m(\u001b[0m\u001b[0mkey\u001b[0m\u001b[1;33m)\u001b[0m\u001b[1;33m:\u001b[0m\u001b[1;33m\u001b[0m\u001b[0m\n\u001b[1;32m-> 1508\u001b[1;33m             \u001b[1;32mreturn\u001b[0m \u001b[0mself\u001b[0m\u001b[1;33m.\u001b[0m\u001b[0m_getbool_axis\u001b[0m\u001b[1;33m(\u001b[0m\u001b[0mkey\u001b[0m\u001b[1;33m,\u001b[0m \u001b[0maxis\u001b[0m\u001b[1;33m=\u001b[0m\u001b[0maxis\u001b[0m\u001b[1;33m)\u001b[0m\u001b[1;33m\u001b[0m\u001b[0m\n\u001b[0m\u001b[0;32m   1509\u001b[0m         \u001b[1;32melif\u001b[0m \u001b[0mis_list_like_indexer\u001b[0m\u001b[1;33m(\u001b[0m\u001b[0mkey\u001b[0m\u001b[1;33m)\u001b[0m\u001b[1;33m:\u001b[0m\u001b[1;33m\u001b[0m\u001b[0m\n\u001b[0;32m   1510\u001b[0m \u001b[1;33m\u001b[0m\u001b[0m\n",
      "\u001b[1;32m~\\Anaconda3\\lib\\site-packages\\pandas\\core\\indexing.py\u001b[0m in \u001b[0;36m_getbool_axis\u001b[1;34m(self, key, axis)\u001b[0m\n\u001b[0;32m   1344\u001b[0m             \u001b[1;32mreturn\u001b[0m \u001b[0mself\u001b[0m\u001b[1;33m.\u001b[0m\u001b[0mobj\u001b[0m\u001b[1;33m.\u001b[0m\u001b[0mtake\u001b[0m\u001b[1;33m(\u001b[0m\u001b[0minds\u001b[0m\u001b[1;33m,\u001b[0m \u001b[0maxis\u001b[0m\u001b[1;33m=\u001b[0m\u001b[0maxis\u001b[0m\u001b[1;33m,\u001b[0m \u001b[0mconvert\u001b[0m\u001b[1;33m=\u001b[0m\u001b[1;32mFalse\u001b[0m\u001b[1;33m)\u001b[0m\u001b[1;33m\u001b[0m\u001b[0m\n\u001b[0;32m   1345\u001b[0m         \u001b[1;32mexcept\u001b[0m \u001b[0mException\u001b[0m \u001b[1;32mas\u001b[0m \u001b[0mdetail\u001b[0m\u001b[1;33m:\u001b[0m\u001b[1;33m\u001b[0m\u001b[0m\n\u001b[1;32m-> 1346\u001b[1;33m             \u001b[1;32mraise\u001b[0m \u001b[0mself\u001b[0m\u001b[1;33m.\u001b[0m\u001b[0m_exception\u001b[0m\u001b[1;33m(\u001b[0m\u001b[0mdetail\u001b[0m\u001b[1;33m)\u001b[0m\u001b[1;33m\u001b[0m\u001b[0m\n\u001b[0m\u001b[0;32m   1347\u001b[0m \u001b[1;33m\u001b[0m\u001b[0m\n\u001b[0;32m   1348\u001b[0m     \u001b[1;32mdef\u001b[0m \u001b[0m_get_slice_axis\u001b[0m\u001b[1;33m(\u001b[0m\u001b[0mself\u001b[0m\u001b[1;33m,\u001b[0m \u001b[0mslice_obj\u001b[0m\u001b[1;33m,\u001b[0m \u001b[0maxis\u001b[0m\u001b[1;33m=\u001b[0m\u001b[1;36m0\u001b[0m\u001b[1;33m)\u001b[0m\u001b[1;33m:\u001b[0m\u001b[1;33m\u001b[0m\u001b[0m\n",
      "\u001b[1;31mKeyError\u001b[0m: IndexError('indices are out-of-bounds',)"
     ]
    }
   ],
   "source": [
    "liste = pd.DataFrame(liste_produits)\n",
    "liste_words = [word for (word, occurence) in list_products]\n",
    "\n",
    "occurence = [dict() for _ in range(n_clusters)]\n",
    "\n",
    "for i in range(n_clusters):\n",
    "    liste_cluster = liste.loc[clusters == i]\n",
    "    for word in liste_words:\n",
    "        if word in ['art', 'set', 'heart', 'pink', 'blue', 'tag']: continue\n",
    "        occurence[i][word] = sum(liste_cluster.loc[:, 0].str.contains(word.upper()))"
   ]
  },
  {
   "cell_type": "code",
   "execution_count": 218,
   "metadata": {
    "_cell_guid": "159600b4-def2-4e4d-be54-6d84938721c4",
    "_kg_hide-input": true,
    "_uuid": "848009ae647f20366e148eeae96a4aa02f975618"
   },
   "outputs": [],
   "source": [
    "liste = pd.DataFrame(liste_produits)\n",
    "liste_words = [word for (word, occurence) in list_products]"
   ]
  },
  {
   "cell_type": "code",
   "execution_count": 219,
   "metadata": {
    "collapsed": true
   },
   "outputs": [],
   "source": [
    "occurence = [dict() for _ in range(n_clusters)]"
   ]
  },
  {
   "cell_type": "code",
   "execution_count": 223,
   "metadata": {},
   "outputs": [
    {
     "ename": "KeyError",
     "evalue": "IndexError('indices are out-of-bounds',)",
     "output_type": "error",
     "traceback": [
      "\u001b[1;31m---------------------------------------------------------------------------\u001b[0m",
      "\u001b[1;31mIndexError\u001b[0m                                Traceback (most recent call last)",
      "\u001b[1;32m~\\Anaconda3\\lib\\site-packages\\pandas\\core\\indexing.py\u001b[0m in \u001b[0;36m_getbool_axis\u001b[1;34m(self, key, axis)\u001b[0m\n\u001b[0;32m   1343\u001b[0m         \u001b[1;32mtry\u001b[0m\u001b[1;33m:\u001b[0m\u001b[1;33m\u001b[0m\u001b[0m\n\u001b[1;32m-> 1344\u001b[1;33m             \u001b[1;32mreturn\u001b[0m \u001b[0mself\u001b[0m\u001b[1;33m.\u001b[0m\u001b[0mobj\u001b[0m\u001b[1;33m.\u001b[0m\u001b[0mtake\u001b[0m\u001b[1;33m(\u001b[0m\u001b[0minds\u001b[0m\u001b[1;33m,\u001b[0m \u001b[0maxis\u001b[0m\u001b[1;33m=\u001b[0m\u001b[0maxis\u001b[0m\u001b[1;33m,\u001b[0m \u001b[0mconvert\u001b[0m\u001b[1;33m=\u001b[0m\u001b[1;32mFalse\u001b[0m\u001b[1;33m)\u001b[0m\u001b[1;33m\u001b[0m\u001b[0m\n\u001b[0m\u001b[0;32m   1345\u001b[0m         \u001b[1;32mexcept\u001b[0m \u001b[0mException\u001b[0m \u001b[1;32mas\u001b[0m \u001b[0mdetail\u001b[0m\u001b[1;33m:\u001b[0m\u001b[1;33m\u001b[0m\u001b[0m\n",
      "\u001b[1;32m~\\Anaconda3\\lib\\site-packages\\pandas\\core\\generic.py\u001b[0m in \u001b[0;36mtake\u001b[1;34m(self, indices, axis, convert, is_copy, **kwargs)\u001b[0m\n\u001b[0;32m   1927\u001b[0m                                    \u001b[0maxis\u001b[0m\u001b[1;33m=\u001b[0m\u001b[0mself\u001b[0m\u001b[1;33m.\u001b[0m\u001b[0m_get_block_manager_axis\u001b[0m\u001b[1;33m(\u001b[0m\u001b[0maxis\u001b[0m\u001b[1;33m)\u001b[0m\u001b[1;33m,\u001b[0m\u001b[1;33m\u001b[0m\u001b[0m\n\u001b[1;32m-> 1928\u001b[1;33m                                    convert=True, verify=True)\n\u001b[0m\u001b[0;32m   1929\u001b[0m         \u001b[0mresult\u001b[0m \u001b[1;33m=\u001b[0m \u001b[0mself\u001b[0m\u001b[1;33m.\u001b[0m\u001b[0m_constructor\u001b[0m\u001b[1;33m(\u001b[0m\u001b[0mnew_data\u001b[0m\u001b[1;33m)\u001b[0m\u001b[1;33m.\u001b[0m\u001b[0m__finalize__\u001b[0m\u001b[1;33m(\u001b[0m\u001b[0mself\u001b[0m\u001b[1;33m)\u001b[0m\u001b[1;33m\u001b[0m\u001b[0m\n",
      "\u001b[1;32m~\\Anaconda3\\lib\\site-packages\\pandas\\core\\internals.py\u001b[0m in \u001b[0;36mtake\u001b[1;34m(self, indexer, axis, verify, convert)\u001b[0m\n\u001b[0;32m   4001\u001b[0m         \u001b[1;32mif\u001b[0m \u001b[0mconvert\u001b[0m\u001b[1;33m:\u001b[0m\u001b[1;33m\u001b[0m\u001b[0m\n\u001b[1;32m-> 4002\u001b[1;33m             \u001b[0mindexer\u001b[0m \u001b[1;33m=\u001b[0m \u001b[0mmaybe_convert_indices\u001b[0m\u001b[1;33m(\u001b[0m\u001b[0mindexer\u001b[0m\u001b[1;33m,\u001b[0m \u001b[0mn\u001b[0m\u001b[1;33m)\u001b[0m\u001b[1;33m\u001b[0m\u001b[0m\n\u001b[0m\u001b[0;32m   4003\u001b[0m \u001b[1;33m\u001b[0m\u001b[0m\n",
      "\u001b[1;32m~\\Anaconda3\\lib\\site-packages\\pandas\\core\\indexing.py\u001b[0m in \u001b[0;36mmaybe_convert_indices\u001b[1;34m(indices, n)\u001b[0m\n\u001b[0;32m   1996\u001b[0m     \u001b[1;32mif\u001b[0m \u001b[0mmask\u001b[0m\u001b[1;33m.\u001b[0m\u001b[0many\u001b[0m\u001b[1;33m(\u001b[0m\u001b[1;33m)\u001b[0m\u001b[1;33m:\u001b[0m\u001b[1;33m\u001b[0m\u001b[0m\n\u001b[1;32m-> 1997\u001b[1;33m         \u001b[1;32mraise\u001b[0m \u001b[0mIndexError\u001b[0m\u001b[1;33m(\u001b[0m\u001b[1;34m\"indices are out-of-bounds\"\u001b[0m\u001b[1;33m)\u001b[0m\u001b[1;33m\u001b[0m\u001b[0m\n\u001b[0m\u001b[0;32m   1998\u001b[0m     \u001b[1;32mreturn\u001b[0m \u001b[0mindices\u001b[0m\u001b[1;33m\u001b[0m\u001b[0m\n",
      "\u001b[1;31mIndexError\u001b[0m: indices are out-of-bounds",
      "\nDuring handling of the above exception, another exception occurred:\n",
      "\u001b[1;31mKeyError\u001b[0m                                  Traceback (most recent call last)",
      "\u001b[1;32m<ipython-input-223-80fdbefae89b>\u001b[0m in \u001b[0;36m<module>\u001b[1;34m()\u001b[0m\n\u001b[0;32m      1\u001b[0m \u001b[1;32mfor\u001b[0m \u001b[0mi\u001b[0m \u001b[1;32min\u001b[0m \u001b[0mrange\u001b[0m\u001b[1;33m(\u001b[0m\u001b[0mn_clusters\u001b[0m\u001b[1;33m)\u001b[0m\u001b[1;33m:\u001b[0m\u001b[1;33m\u001b[0m\u001b[0m\n\u001b[1;32m----> 2\u001b[1;33m     \u001b[0mliste_cluster\u001b[0m \u001b[1;33m=\u001b[0m \u001b[0mliste\u001b[0m\u001b[1;33m.\u001b[0m\u001b[0mloc\u001b[0m\u001b[1;33m[\u001b[0m\u001b[0mclusters\u001b[0m \u001b[1;33m==\u001b[0m \u001b[0mi\u001b[0m\u001b[1;33m]\u001b[0m\u001b[1;33m\u001b[0m\u001b[0m\n\u001b[0m\u001b[0;32m      3\u001b[0m     \u001b[1;32mfor\u001b[0m \u001b[0mword\u001b[0m \u001b[1;32min\u001b[0m \u001b[0mliste_words\u001b[0m\u001b[1;33m:\u001b[0m\u001b[1;33m\u001b[0m\u001b[0m\n\u001b[0;32m      4\u001b[0m         \u001b[1;32mif\u001b[0m \u001b[0mword\u001b[0m \u001b[1;32min\u001b[0m \u001b[1;33m[\u001b[0m\u001b[1;34m'art'\u001b[0m\u001b[1;33m,\u001b[0m \u001b[1;34m'set'\u001b[0m\u001b[1;33m,\u001b[0m \u001b[1;34m'heart'\u001b[0m\u001b[1;33m,\u001b[0m \u001b[1;34m'pink'\u001b[0m\u001b[1;33m,\u001b[0m \u001b[1;34m'blue'\u001b[0m\u001b[1;33m,\u001b[0m \u001b[1;34m'tag'\u001b[0m\u001b[1;33m]\u001b[0m\u001b[1;33m:\u001b[0m \u001b[1;32mcontinue\u001b[0m\u001b[1;33m\u001b[0m\u001b[0m\n\u001b[0;32m      5\u001b[0m         \u001b[0moccurence\u001b[0m\u001b[1;33m[\u001b[0m\u001b[0mi\u001b[0m\u001b[1;33m]\u001b[0m\u001b[1;33m[\u001b[0m\u001b[0mword\u001b[0m\u001b[1;33m]\u001b[0m \u001b[1;33m=\u001b[0m \u001b[0msum\u001b[0m\u001b[1;33m(\u001b[0m\u001b[0mliste_cluster\u001b[0m\u001b[1;33m.\u001b[0m\u001b[0mloc\u001b[0m\u001b[1;33m[\u001b[0m\u001b[1;33m:\u001b[0m\u001b[1;33m,\u001b[0m \u001b[1;36m0\u001b[0m\u001b[1;33m]\u001b[0m\u001b[1;33m.\u001b[0m\u001b[0mstr\u001b[0m\u001b[1;33m.\u001b[0m\u001b[0mcontains\u001b[0m\u001b[1;33m(\u001b[0m\u001b[0mword\u001b[0m\u001b[1;33m.\u001b[0m\u001b[0mupper\u001b[0m\u001b[1;33m(\u001b[0m\u001b[1;33m)\u001b[0m\u001b[1;33m)\u001b[0m\u001b[1;33m)\u001b[0m\u001b[1;33m\u001b[0m\u001b[0m\n",
      "\u001b[1;32m~\\Anaconda3\\lib\\site-packages\\pandas\\core\\indexing.py\u001b[0m in \u001b[0;36m__getitem__\u001b[1;34m(self, key)\u001b[0m\n\u001b[0;32m   1326\u001b[0m         \u001b[1;32melse\u001b[0m\u001b[1;33m:\u001b[0m\u001b[1;33m\u001b[0m\u001b[0m\n\u001b[0;32m   1327\u001b[0m             \u001b[0mkey\u001b[0m \u001b[1;33m=\u001b[0m \u001b[0mcom\u001b[0m\u001b[1;33m.\u001b[0m\u001b[0m_apply_if_callable\u001b[0m\u001b[1;33m(\u001b[0m\u001b[0mkey\u001b[0m\u001b[1;33m,\u001b[0m \u001b[0mself\u001b[0m\u001b[1;33m.\u001b[0m\u001b[0mobj\u001b[0m\u001b[1;33m)\u001b[0m\u001b[1;33m\u001b[0m\u001b[0m\n\u001b[1;32m-> 1328\u001b[1;33m             \u001b[1;32mreturn\u001b[0m \u001b[0mself\u001b[0m\u001b[1;33m.\u001b[0m\u001b[0m_getitem_axis\u001b[0m\u001b[1;33m(\u001b[0m\u001b[0mkey\u001b[0m\u001b[1;33m,\u001b[0m \u001b[0maxis\u001b[0m\u001b[1;33m=\u001b[0m\u001b[1;36m0\u001b[0m\u001b[1;33m)\u001b[0m\u001b[1;33m\u001b[0m\u001b[0m\n\u001b[0m\u001b[0;32m   1329\u001b[0m \u001b[1;33m\u001b[0m\u001b[0m\n\u001b[0;32m   1330\u001b[0m     \u001b[1;32mdef\u001b[0m \u001b[0m_is_scalar_access\u001b[0m\u001b[1;33m(\u001b[0m\u001b[0mself\u001b[0m\u001b[1;33m,\u001b[0m \u001b[0mkey\u001b[0m\u001b[1;33m)\u001b[0m\u001b[1;33m:\u001b[0m\u001b[1;33m\u001b[0m\u001b[0m\n",
      "\u001b[1;32m~\\Anaconda3\\lib\\site-packages\\pandas\\core\\indexing.py\u001b[0m in \u001b[0;36m_getitem_axis\u001b[1;34m(self, key, axis)\u001b[0m\n\u001b[0;32m   1506\u001b[0m             \u001b[1;32mreturn\u001b[0m \u001b[0mself\u001b[0m\u001b[1;33m.\u001b[0m\u001b[0m_get_slice_axis\u001b[0m\u001b[1;33m(\u001b[0m\u001b[0mkey\u001b[0m\u001b[1;33m,\u001b[0m \u001b[0maxis\u001b[0m\u001b[1;33m=\u001b[0m\u001b[0maxis\u001b[0m\u001b[1;33m)\u001b[0m\u001b[1;33m\u001b[0m\u001b[0m\n\u001b[0;32m   1507\u001b[0m         \u001b[1;32melif\u001b[0m \u001b[0mis_bool_indexer\u001b[0m\u001b[1;33m(\u001b[0m\u001b[0mkey\u001b[0m\u001b[1;33m)\u001b[0m\u001b[1;33m:\u001b[0m\u001b[1;33m\u001b[0m\u001b[0m\n\u001b[1;32m-> 1508\u001b[1;33m             \u001b[1;32mreturn\u001b[0m \u001b[0mself\u001b[0m\u001b[1;33m.\u001b[0m\u001b[0m_getbool_axis\u001b[0m\u001b[1;33m(\u001b[0m\u001b[0mkey\u001b[0m\u001b[1;33m,\u001b[0m \u001b[0maxis\u001b[0m\u001b[1;33m=\u001b[0m\u001b[0maxis\u001b[0m\u001b[1;33m)\u001b[0m\u001b[1;33m\u001b[0m\u001b[0m\n\u001b[0m\u001b[0;32m   1509\u001b[0m         \u001b[1;32melif\u001b[0m \u001b[0mis_list_like_indexer\u001b[0m\u001b[1;33m(\u001b[0m\u001b[0mkey\u001b[0m\u001b[1;33m)\u001b[0m\u001b[1;33m:\u001b[0m\u001b[1;33m\u001b[0m\u001b[0m\n\u001b[0;32m   1510\u001b[0m \u001b[1;33m\u001b[0m\u001b[0m\n",
      "\u001b[1;32m~\\Anaconda3\\lib\\site-packages\\pandas\\core\\indexing.py\u001b[0m in \u001b[0;36m_getbool_axis\u001b[1;34m(self, key, axis)\u001b[0m\n\u001b[0;32m   1344\u001b[0m             \u001b[1;32mreturn\u001b[0m \u001b[0mself\u001b[0m\u001b[1;33m.\u001b[0m\u001b[0mobj\u001b[0m\u001b[1;33m.\u001b[0m\u001b[0mtake\u001b[0m\u001b[1;33m(\u001b[0m\u001b[0minds\u001b[0m\u001b[1;33m,\u001b[0m \u001b[0maxis\u001b[0m\u001b[1;33m=\u001b[0m\u001b[0maxis\u001b[0m\u001b[1;33m,\u001b[0m \u001b[0mconvert\u001b[0m\u001b[1;33m=\u001b[0m\u001b[1;32mFalse\u001b[0m\u001b[1;33m)\u001b[0m\u001b[1;33m\u001b[0m\u001b[0m\n\u001b[0;32m   1345\u001b[0m         \u001b[1;32mexcept\u001b[0m \u001b[0mException\u001b[0m \u001b[1;32mas\u001b[0m \u001b[0mdetail\u001b[0m\u001b[1;33m:\u001b[0m\u001b[1;33m\u001b[0m\u001b[0m\n\u001b[1;32m-> 1346\u001b[1;33m             \u001b[1;32mraise\u001b[0m \u001b[0mself\u001b[0m\u001b[1;33m.\u001b[0m\u001b[0m_exception\u001b[0m\u001b[1;33m(\u001b[0m\u001b[0mdetail\u001b[0m\u001b[1;33m)\u001b[0m\u001b[1;33m\u001b[0m\u001b[0m\n\u001b[0m\u001b[0;32m   1347\u001b[0m \u001b[1;33m\u001b[0m\u001b[0m\n\u001b[0;32m   1348\u001b[0m     \u001b[1;32mdef\u001b[0m \u001b[0m_get_slice_axis\u001b[0m\u001b[1;33m(\u001b[0m\u001b[0mself\u001b[0m\u001b[1;33m,\u001b[0m \u001b[0mslice_obj\u001b[0m\u001b[1;33m,\u001b[0m \u001b[0maxis\u001b[0m\u001b[1;33m=\u001b[0m\u001b[1;36m0\u001b[0m\u001b[1;33m)\u001b[0m\u001b[1;33m:\u001b[0m\u001b[1;33m\u001b[0m\u001b[0m\n",
      "\u001b[1;31mKeyError\u001b[0m: IndexError('indices are out-of-bounds',)"
     ]
    }
   ],
   "source": [
    "for i in range(n_clusters):\n",
    "    liste_cluster = liste.loc[clusters == i]\n",
    "    for word in liste_words:\n",
    "        if word in ['art', 'set', 'heart', 'pink', 'blue', 'tag']: continue\n",
    "        occurence[i][word] = sum(liste_cluster.loc[:, 0].str.contains(word.upper()))"
   ]
  },
  {
   "cell_type": "markdown",
   "metadata": {
    "_cell_guid": "503ecb33-ba25-4dc0-af23-85a3d4d6881c",
    "_uuid": "6ed38b6e18be3733ed34d043c67ad03e65c38192"
   },
   "source": [
    "and I output the result as wordclouds:"
   ]
  },
  {
   "cell_type": "code",
   "execution_count": null,
   "metadata": {
    "_cell_guid": "2995e126-925b-436f-8b68-55d874637b1e",
    "_kg_hide-input": true,
    "_uuid": "3d88a32f7998249ce42e267bb912acc7420f0c47"
   },
   "outputs": [],
   "source": [
    "#________________________________________________________________________\n",
    "def random_color_func(word=None, font_size=None, position=None,\n",
    "                      orientation=None, font_path=None, random_state=None):\n",
    "    h = int(360.0 * tone / 255.0)\n",
    "    s = int(100.0 * 255.0 / 255.0)\n",
    "    l = int(100.0 * float(random_state.randint(70, 120)) / 255.0)\n",
    "    return \"hsl({}, {}%, {}%)\".format(h, s, l)\n",
    "#________________________________________________________________________\n",
    "def make_wordcloud(liste, increment):\n",
    "    ax1 = fig.add_subplot(4,2,increment)\n",
    "    words = dict()\n",
    "    trunc_occurences = liste[0:150]\n",
    "    for s in trunc_occurences:\n",
    "        words[s[0]] = s[1]\n",
    "    #________________________________________________________\n",
    "    wordcloud = WordCloud(width=1000,height=400, background_color='lightgrey', \n",
    "                          max_words=1628,relative_scaling=1,\n",
    "                          color_func = random_color_func,\n",
    "                          normalize_plurals=False)\n",
    "    wordcloud.generate_from_frequencies(words)\n",
    "    ax1.imshow(wordcloud, interpolation=\"bilinear\")\n",
    "    ax1.axis('off')\n",
    "    plt.title('cluster nº{}'.format(increment-1))\n",
    "#________________________________________________________________________\n",
    "fig = plt.figure(1, figsize=(14,14))\n",
    "color = [0, 160, 130, 95, 280, 40, 330, 110, 25]\n",
    "for i in range(n_clusters):\n",
    "    list_cluster_occurences = occurence[i]\n",
    "\n",
    "    tone = color[i] # define the color of the words\n",
    "    liste = []\n",
    "    for key, value in list_cluster_occurences.items():\n",
    "        liste.append([key, value])\n",
    "    liste.sort(key = lambda x:x[1], reverse = True)\n",
    "    make_wordcloud(liste, i+1)            "
   ]
  },
  {
   "cell_type": "markdown",
   "metadata": {
    "_cell_guid": "aa8f400a-297d-4b1c-944c-8b09b6ed5744",
    "_uuid": "7e14b7478f0ffddb1739678a1df8d0f6de254749"
   },
   "source": [
    "From this representation, we can see that for example, one of the clusters contains objects that could be associated with gifts (keywords: Christmas, packaging, card, ...). Another cluster would rather contain luxury items and jewelry (keywords: necklace, bracelet, lace, silver, ...). Nevertheless, it can also be observed that many words appear in various clusters and it is therefore difficult to clearly distinguish them.\n",
    "\n",
    "** c / _Principal Component Analysis_ **\n",
    "\n",
    "In order to ensure that these clusters are truly distinct, I look at their composition. Given the large number of variables of the initial matrix, I first perform a PCA:"
   ]
  },
  {
   "cell_type": "code",
   "execution_count": null,
   "metadata": {
    "_cell_guid": "85af75c5-bf90-4b8c-9687-caff723d0027",
    "_kg_hide-input": true,
    "_uuid": "33859d205bcf40477d166b679fb97996ba2d5f48",
    "collapsed": true
   },
   "outputs": [],
   "source": [
    "pca = PCA()\n",
    "pca.fit(matrix)\n",
    "pca_samples = pca.transform(matrix)"
   ]
  },
  {
   "cell_type": "markdown",
   "metadata": {
    "_cell_guid": "4fdb1e57-76c2-44da-8d35-a6dceac628f8",
    "_uuid": "58675f9176ee5121d7f22605feea4d983c4ea9b4"
   },
   "source": [
    "and then check for the amount of variance explained by each component:"
   ]
  },
  {
   "cell_type": "code",
   "execution_count": null,
   "metadata": {
    "_cell_guid": "41cd8738-4923-43cd-b26a-fba6d53070e8",
    "_kg_hide-input": true,
    "_uuid": "abce52d76e801aa6197603925618fb032aec78af",
    "collapsed": true
   },
   "outputs": [],
   "source": [
    "fig, ax = plt.subplots(figsize=(14, 5))\n",
    "sns.set(font_scale=1)\n",
    "plt.step(range(matrix.shape[1]), pca.explained_variance_ratio_.cumsum(), where='mid',\n",
    "         label='cumulative explained variance')\n",
    "sns.barplot(np.arange(1,matrix.shape[1]+1), pca.explained_variance_ratio_, alpha=0.5, color = 'g',\n",
    "            label='individual explained variance')\n",
    "plt.xlim(0, 100)\n",
    "\n",
    "ax.set_xticklabels([s if int(s.get_text())%2 == 0 else '' for s in ax.get_xticklabels()])\n",
    "\n",
    "plt.ylabel('Explained variance', fontsize = 14)\n",
    "plt.xlabel('Principal components', fontsize = 14)\n",
    "plt.legend(loc='upper left', fontsize = 13);"
   ]
  },
  {
   "cell_type": "markdown",
   "metadata": {
    "_cell_guid": "29b5ae8a-7430-47b6-a4cd-991dbb3073ca",
    "_uuid": "159540979f024ddac04749daace71e737fc558a1"
   },
   "source": [
    "We see that the number of components required to explain the data is extremely important: we need more than 100 components to explain 90% of the variance of the data. In practice, I decide to keep only a limited number of components since this decomposition is only performed to visualize the data:"
   ]
  },
  {
   "cell_type": "code",
   "execution_count": null,
   "metadata": {
    "_cell_guid": "0e49b019-d1b7-4815-8c5e-7cf27fa5b5b2",
    "_kg_hide-input": true,
    "_uuid": "fb0afe8523c2634860fdaf67d734c1dc0897c4c0",
    "collapsed": true
   },
   "outputs": [],
   "source": [
    "pca = PCA(n_components=50)\n",
    "matrix_9D = pca.fit_transform(matrix)\n",
    "mat = pd.DataFrame(matrix_9D)\n",
    "mat['cluster'] = pd.Series(clusters)"
   ]
  },
  {
   "cell_type": "code",
   "execution_count": null,
   "metadata": {
    "_cell_guid": "675cc670-4512-4983-8b58-e82f3cf2bf3d",
    "_kg_hide-input": true,
    "_uuid": "b9d872fa5038458f3424dfc585a5a823efc7ff7f",
    "collapsed": true
   },
   "outputs": [],
   "source": [
    "import matplotlib.patches as mpatches\n",
    "\n",
    "sns.set_style(\"white\")\n",
    "sns.set_context(\"notebook\", font_scale=1, rc={\"lines.linewidth\": 2.5})\n",
    "\n",
    "LABEL_COLOR_MAP = {0:'r', 1:'gold', 2:'b', 3:'k', 4:'c', 5:'g'}\n",
    "label_color = [LABEL_COLOR_MAP[l] for l in mat['cluster']]\n",
    "\n",
    "fig = plt.figure(figsize = (12,10))\n",
    "increment = 0\n",
    "for ix in range(4):\n",
    "    for iy in range(ix+1, 4):    \n",
    "        increment += 1\n",
    "        ax = fig.add_subplot(3,3,increment)\n",
    "        ax.scatter(mat[ix], mat[iy], c= label_color, alpha=0.4) \n",
    "        plt.ylabel('PCA {}'.format(iy+1), fontsize = 12)\n",
    "        plt.xlabel('PCA {}'.format(ix+1), fontsize = 12)\n",
    "        ax.yaxis.grid(color='lightgray', linestyle=':')\n",
    "        ax.xaxis.grid(color='lightgray', linestyle=':')\n",
    "        ax.spines['right'].set_visible(False)\n",
    "        ax.spines['top'].set_visible(False)\n",
    "        \n",
    "        if increment == 9: break\n",
    "    if increment == 9: break\n",
    "        \n",
    "#_______________________________________________\n",
    "# I set the legend: abreviation -> airline name\n",
    "comp_handler = []\n",
    "for i in range(5):\n",
    "    comp_handler.append(mpatches.Patch(color = LABEL_COLOR_MAP[i], label = i))\n",
    "\n",
    "plt.legend(handles=comp_handler, bbox_to_anchor=(1.1, 0.97), \n",
    "           title='Cluster', facecolor = 'lightgrey',\n",
    "           shadow = True, frameon = True, framealpha = 1,\n",
    "           fontsize = 13, bbox_transform = plt.gcf().transFigure)\n",
    "\n",
    "plt.tight_layout()"
   ]
  },
  {
   "cell_type": "markdown",
   "metadata": {
    "_cell_guid": "731427f7-4c47-4d39-acb0-fb8b6efb0df7",
    "_uuid": "1d070f5bc58c75ac8bb122b5132761f81156f9ff"
   },
   "source": [
    "___\n",
    "## 5. Customer categories <a class=\"anchor\" id=\"5-bullet\"></a>\n",
    "\n",
    "### 5.1 Formatting data <a class=\"anchor\" id=\"5.1-bullet\"></a>\n",
    "\n",
    "In the previous section, the different products were grouped in five clusters. In order to prepare the rest of the analysis, a first step consists in introducing this information into the dataframe. To do this, I create the categorical variable **categ_product** where I indicate the cluster of each product :"
   ]
  },
  {
   "cell_type": "code",
   "execution_count": null,
   "metadata": {
    "_cell_guid": "b66c0817-22c1-42cf-b944-8e3db918a671",
    "_kg_hide-input": true,
    "_uuid": "c030102cce28bbf7e268ed40b0388017cd15df8f",
    "collapsed": true
   },
   "outputs": [],
   "source": [
    "corresp = dict()\n",
    "for key, val in zip (liste_produits, clusters):\n",
    "    corresp[key] = val \n",
    "#__________________________________________________________________________\n",
    "df_cleaned['categ_product'] = df_cleaned.loc[:, 'Description'].map(corresp)"
   ]
  },
  {
   "cell_type": "markdown",
   "metadata": {
    "_cell_guid": "bec41c37-5777-49e3-98e0-4a6e9613783b",
    "_uuid": "738635fe9be465fbd0940e799b6070dbb201a780"
   },
   "source": [
    "___\n",
    "#### 5.1.1 Grouping products <a class=\"anchor\" id=\"5.1.1-bullet\"></a>\n",
    "\n",
    "In a second step, I decide to create the **categ_N** variables (with $ N \\in [0: 4]$) that contains the amount spent in each product category:"
   ]
  },
  {
   "cell_type": "code",
   "execution_count": null,
   "metadata": {
    "_cell_guid": "882978a7-8d65-468e-982a-dd689515d415",
    "_kg_hide-input": true,
    "_uuid": "7b29ea4de78cdf757e031a0d810b24c4a3641057",
    "collapsed": true
   },
   "outputs": [],
   "source": [
    "for i in range(5):\n",
    "    col = 'categ_{}'.format(i)        \n",
    "    df_temp = df_cleaned[df_cleaned['categ_product'] == i]\n",
    "    price_temp = df_temp['UnitPrice'] * (df_temp['Quantity'] - df_temp['QuantityCanceled'])\n",
    "    price_temp = price_temp.apply(lambda x:x if x > 0 else 0)\n",
    "    df_cleaned.loc[:, col] = price_temp\n",
    "    df_cleaned[col].fillna(0, inplace = True)\n",
    "#__________________________________________________________________________________________________\n",
    "df_cleaned[['InvoiceNo', 'Description', 'categ_product', 'categ_0', 'categ_1', 'categ_2', 'categ_3','categ_4']][:5]"
   ]
  },
  {
   "cell_type": "markdown",
   "metadata": {
    "_cell_guid": "46e1dba0-a444-4655-8017-3c30932cb605",
    "_uuid": "e209c1e028ee3b1e99bfa2255a8bb767dfb04596"
   },
   "source": [
    "Up to now, the information related to a single order was split over several lines of the dataframe (one line per product). I decide to collect the information related to a particular order and put in in a single entry. I therefore create a new dataframe that contains, for each order, the amount of the basket, as well as the way it is distributed over the 5 categories of products:"
   ]
  },
  {
   "cell_type": "code",
   "execution_count": null,
   "metadata": {
    "_cell_guid": "9a5249e1-7ac8-43f9-a759-db4df4934e71",
    "_kg_hide-input": true,
    "_uuid": "9d0c9edb309503999f38ccc40fd09d1a311a5019",
    "collapsed": true
   },
   "outputs": [],
   "source": [
    "#___________________________________________\n",
    "# somme des achats / utilisateur & commande\n",
    "temp = df_cleaned.groupby(by=['CustomerID', 'InvoiceNo'], as_index=False)['TotalPrice'].sum()\n",
    "basket_price = temp.rename(columns = {'TotalPrice':'Basket Price'})\n",
    "#____________________________________________________________\n",
    "# pourcentage du prix de la commande / categorie de produit\n",
    "for i in range(5):\n",
    "    col = 'categ_{}'.format(i) \n",
    "    temp = df_cleaned.groupby(by=['CustomerID', 'InvoiceNo'], as_index=False)[col].sum()\n",
    "    basket_price.loc[:, col] = temp \n",
    "#_____________________\n",
    "# date de la commande\n",
    "df_cleaned['InvoiceDate_int'] = df_cleaned['InvoiceDate'].astype('int64')\n",
    "temp = df_cleaned.groupby(by=['CustomerID', 'InvoiceNo'], as_index=False)['InvoiceDate_int'].mean()\n",
    "df_cleaned.drop('InvoiceDate_int', axis = 1, inplace = True)\n",
    "basket_price.loc[:, 'InvoiceDate'] = pd.to_datetime(temp['InvoiceDate_int'])\n",
    "#______________________________________\n",
    "# selection des entrées significatives:\n",
    "basket_price = basket_price[basket_price['Basket Price'] > 0]\n",
    "basket_price.sort_values('CustomerID', ascending = True)[:5]"
   ]
  },
  {
   "cell_type": "markdown",
   "metadata": {
    "_cell_guid": "893c7c56-0ef4-4055-965f-102e1d48bb80",
    "_uuid": "b60b304b08843db5b56367de6f1d366f243ec16c"
   },
   "source": [
    "#### 5.1.2 Separation of data over time <a class=\"anchor\" id=\"5.1.2-bullet\"></a>\n",
    "\n",
    "The dataframe `basket_price` contains information for a period of 12 months. Later, one of the objectives will be to develop a model capable of characterizing and anticipating the habits of the customers visiting the site and this, from their first visit. In order to be able to test the model in a realistic way, I split the data set by retaining the first 10 months to develop the model and the following two months to test it:"
   ]
  },
  {
   "cell_type": "code",
   "execution_count": null,
   "metadata": {
    "_cell_guid": "c30fa4af-6617-4e25-b297-23efae5e1dcb",
    "_kg_hide-input": true,
    "_uuid": "7be642cc67d95c7b149747f66a8ba8845a17350e",
    "collapsed": true
   },
   "outputs": [],
   "source": [
    "print(basket_price['InvoiceDate'].min(), '->',  basket_price['InvoiceDate'].max())"
   ]
  },
  {
   "cell_type": "code",
   "execution_count": null,
   "metadata": {
    "_cell_guid": "29948719-cecf-48d3-ab66-ca76214b058a",
    "_kg_hide-input": true,
    "_uuid": "854a1781838e9d4f9e2a27e6a0b65c5e86d7a1b0",
    "collapsed": true
   },
   "outputs": [],
   "source": [
    "set_entrainement = basket_price[basket_price['InvoiceDate'] < datetime.date(2011,10,1)]\n",
    "set_test         = basket_price[basket_price['InvoiceDate'] >= datetime.date(2011,10,1)]\n",
    "basket_price = set_entrainement.copy(deep = True)"
   ]
  },
  {
   "cell_type": "markdown",
   "metadata": {
    "_cell_guid": "cf755ead-5dee-4d55-b351-5c3d106ef828",
    "_uuid": "8f4ab5026a66fcdb1e6e62ee552a2737aebc61bb"
   },
   "source": [
    "____\n",
    "#### 5.1.3 Consumer Order Combinations <a class=\"anchor\" id=\"5.1.3-bullet\"></a>\n",
    "\n",
    "In a second step, I group together the different entries that correspond to the same user. I thus determine the number of purchases made by the user, as well as the minimum, maximum, average amounts and the total amount spent during all the visits:"
   ]
  },
  {
   "cell_type": "code",
   "execution_count": null,
   "metadata": {
    "_cell_guid": "876435e3-49c7-4f98-a58f-55d8f0620ef8",
    "_kg_hide-input": true,
    "_uuid": "a8144451cb606fde4e691486ea9b9d2ccbeae7b9",
    "collapsed": true
   },
   "outputs": [],
   "source": [
    "#________________________________________________________________\n",
    "# nb de visites et stats sur le montant du panier / utilisateurs\n",
    "transactions_per_user=basket_price.groupby(by=['CustomerID'])['Basket Price'].agg(['count','min','max','mean','sum'])\n",
    "for i in range(5):\n",
    "    col = 'categ_{}'.format(i)\n",
    "    transactions_per_user.loc[:,col] = basket_price.groupby(by=['CustomerID'])[col].sum() /\\\n",
    "                                            transactions_per_user['sum']*100\n",
    "\n",
    "transactions_per_user.reset_index(drop = False, inplace = True)\n",
    "basket_price.groupby(by=['CustomerID'])['categ_0'].sum()\n",
    "transactions_per_user.sort_values('CustomerID', ascending = True)[:5]"
   ]
  },
  {
   "cell_type": "markdown",
   "metadata": {
    "_cell_guid": "c02d86a5-f239-4ec0-9374-61a000f81ec7",
    "_uuid": "cd335b44bdd24a675ee3407580171135a1053649"
   },
   "source": [
    "Finally, I define two additional variables that give the number of days elapsed since the first purchase (** FirstPurchase **) and the number of days since the last purchase (** LastPurchase **):"
   ]
  },
  {
   "cell_type": "code",
   "execution_count": null,
   "metadata": {
    "_cell_guid": "60a47c3b-b36a-460a-835b-7f6d3c7af48c",
    "_kg_hide-input": true,
    "_uuid": "29dab7aeb0f6d8d1e898b9d72efa2a6e07f1d3e0",
    "collapsed": true,
    "scrolled": true
   },
   "outputs": [],
   "source": [
    "last_date = basket_price['InvoiceDate'].max().date()\n",
    "\n",
    "first_registration = pd.DataFrame(basket_price.groupby(by=['CustomerID'])['InvoiceDate'].min())\n",
    "last_purchase      = pd.DataFrame(basket_price.groupby(by=['CustomerID'])['InvoiceDate'].max())\n",
    "\n",
    "test  = first_registration.applymap(lambda x:(last_date - x.date()).days)\n",
    "test2 = last_purchase.applymap(lambda x:(last_date - x.date()).days)\n",
    "\n",
    "transactions_per_user.loc[:, 'LastPurchase'] = test2.reset_index(drop = False)['InvoiceDate']\n",
    "transactions_per_user.loc[:, 'FirstPurchase'] = test.reset_index(drop = False)['InvoiceDate']\n",
    "\n",
    "transactions_per_user[:5]"
   ]
  },
  {
   "cell_type": "markdown",
   "metadata": {
    "_cell_guid": "62b7f0bc-6811-4f3c-840d-a7ace9ca8d3c",
    "_uuid": "0d120903f429d18f9a06fea70e2fd035d0c59c0a"
   },
   "source": [
    "A customer category of particular interest is that of customers who make only one purchase. One of the objectives may be, for example, to target these customers in order to retain them. In part, I find that this type of customer represents 1/3 of the customers listed:"
   ]
  },
  {
   "cell_type": "code",
   "execution_count": null,
   "metadata": {
    "_cell_guid": "f0a8717e-bf13-4847-a2d8-d5c518ef7580",
    "_kg_hide-input": true,
    "_uuid": "27a45dcd6d0ac2382f07ef6b091a50fc7006a389",
    "collapsed": true
   },
   "outputs": [],
   "source": [
    "n1 = transactions_per_user[transactions_per_user['count'] == 1].shape[0]\n",
    "n2 = transactions_per_user.shape[0]\n",
    "print(\"nb. de clients avec achat unique: {:<2}/{:<5} ({:<2.2f}%)\".format(n1,n2,n1/n2*100))"
   ]
  },
  {
   "cell_type": "markdown",
   "metadata": {
    "_cell_guid": "0de7eb30-4a0c-49dc-a423-1acce0956e30",
    "_uuid": "f2c4d5aa8a322b09c539e6b3b0196ca7c4247104"
   },
   "source": [
    "### 5.2 Creation of customers categories <a class=\"anchor\" id=\"5.2-bullet\"></a>"
   ]
  },
  {
   "cell_type": "markdown",
   "metadata": {
    "_cell_guid": "93a76684-228f-447b-bad0-0a61809809cc",
    "_uuid": "5c58d53dcb2159e019c8eb55f0178f40ad293f90"
   },
   "source": [
    "#### 5.2.1 Data encoding <a class=\"anchor\" id=\"5.2.1-bullet\"></a>\n",
    "\n",
    "The dataframe `transactions_per_user` contains a summary of all the commands that were made. Each entry in this dataframe corresponds to a particular client. I use this information to characterize the different types of customers and only keep a subset of variables:"
   ]
  },
  {
   "cell_type": "code",
   "execution_count": null,
   "metadata": {
    "_cell_guid": "cdc3d67f-1337-4cf6-8a36-7b99d4adc160",
    "_kg_hide-input": true,
    "_uuid": "1769df5bd3f987760e0493c6979c9031e18cd47e",
    "collapsed": true
   },
   "outputs": [],
   "source": [
    "list_cols = ['count','min','max','mean','categ_0','categ_1','categ_2','categ_3','categ_4']\n",
    "#_____________________________________________________________\n",
    "selected_customers = transactions_per_user.copy(deep = True)\n",
    "matrix = selected_customers[list_cols].as_matrix()"
   ]
  },
  {
   "cell_type": "markdown",
   "metadata": {
    "_cell_guid": "9c752c86-845c-4713-8ddc-3a7d1492f3ac",
    "_uuid": "cca71b10aaf0aa363e921b67e8b1e88055ed4dfd"
   },
   "source": [
    "In practice, the different variables I selected have quite different ranges of variation and before continuing the analysis, I  create a matrix where these data are standardized:"
   ]
  },
  {
   "cell_type": "code",
   "execution_count": null,
   "metadata": {
    "_cell_guid": "84be0db9-a24a-4b9b-b541-e1437404ff37",
    "_kg_hide-input": true,
    "_uuid": "5e15c98b0da14a1fe5473ca2fa6c5722968386b6",
    "collapsed": true
   },
   "outputs": [],
   "source": [
    "scaler = StandardScaler()\n",
    "scaler.fit(matrix)\n",
    "print('variables mean values: \\n' + 90*'-' + '\\n' , scaler.mean_)\n",
    "scaled_matrix = scaler.transform(matrix)"
   ]
  },
  {
   "cell_type": "markdown",
   "metadata": {
    "_cell_guid": "77523e66-c44e-48f6-946d-fa79c7d50d61",
    "_uuid": "92f56e55fec1d4fd0b823d53d66ab5fc44016709"
   },
   "source": [
    "In the following, I will create clusters of customers. In practice, before creating these clusters, it is interesting to define a base of smaller dimension allowing to describe the `scaled_matrix` matrix. In this case, I will use this base in order to create a representation of the different clusters and thus verify the quality of the separation of the different groups. I therefore perform a PCA beforehand:"
   ]
  },
  {
   "cell_type": "code",
   "execution_count": null,
   "metadata": {
    "_cell_guid": "302061b0-4e19-4b5b-a969-1f45c27873e1",
    "_kg_hide-input": true,
    "_uuid": "30b6a47f96e223efeb0ab49517b38c192627927f",
    "collapsed": true
   },
   "outputs": [],
   "source": [
    "pca = PCA()\n",
    "pca.fit(scaled_matrix)\n",
    "pca_samples = pca.transform(scaled_matrix)"
   ]
  },
  {
   "cell_type": "markdown",
   "metadata": {
    "_cell_guid": "8fd227dc-8def-4e9e-84fb-1325638a53b9",
    "_uuid": "66da306d298c0790f3b56e7177d582622b46de46"
   },
   "source": [
    "and I represent the amount of variance explained by each of the components:"
   ]
  },
  {
   "cell_type": "code",
   "execution_count": null,
   "metadata": {
    "_cell_guid": "ed6ab99d-fee5-44c3-958c-58b786263e82",
    "_kg_hide-input": true,
    "_uuid": "bb95db84567cb2a3a32652bcf2b3ea5c14b5b550",
    "collapsed": true
   },
   "outputs": [],
   "source": [
    "fig, ax = plt.subplots(figsize=(14, 5))\n",
    "sns.set(font_scale=1)\n",
    "plt.step(range(matrix.shape[1]), pca.explained_variance_ratio_.cumsum(), where='mid',\n",
    "         label='cumulative explained variance')\n",
    "sns.barplot(np.arange(1,matrix.shape[1]+1), pca.explained_variance_ratio_, alpha=0.5, color = 'g',\n",
    "            label='individual explained variance')\n",
    "plt.xlim(0, 10)\n",
    "\n",
    "ax.set_xticklabels([s if int(s.get_text())%2 == 0 else '' for s in ax.get_xticklabels()])\n",
    "\n",
    "plt.ylabel('Explained variance', fontsize = 14)\n",
    "plt.xlabel('Principal components', fontsize = 14)\n",
    "plt.legend(loc='best', fontsize = 13);"
   ]
  },
  {
   "cell_type": "markdown",
   "metadata": {
    "_cell_guid": "25bea85a-ced6-402b-9e47-718ee3b6a434",
    "_uuid": "56151271895b2d34c5bfe02977169a47527bc72f"
   },
   "source": [
    "#### 5.2.2 Creation of customer categories <a class=\"anchor\" id=\"5.2.2-bullet\"></a>"
   ]
  },
  {
   "cell_type": "markdown",
   "metadata": {
    "_cell_guid": "7c8dc088-65dc-41b4-88d1-f453d293ce34",
    "_uuid": "dd1242cb2135d3515a5252d7783951f77cbaee75"
   },
   "source": [
    "At this point, I define clusters of clients from the standardized matrix that was defined earlier and using the `k-means` algorithm from` scikit-learn`. I choose the number of clusters based on the silhouette score and I find that the best score is obtained with 11 clusters:"
   ]
  },
  {
   "cell_type": "code",
   "execution_count": null,
   "metadata": {
    "_cell_guid": "ce1adb5f-a0cf-4af4-99fa-585fa71cf89f",
    "_kg_hide-input": true,
    "_uuid": "09711facb0d6dd1e4027724a55b8a5fa0155b616",
    "collapsed": true
   },
   "outputs": [],
   "source": [
    "n_clusters = 11\n",
    "kmeans = KMeans(init='k-means++', n_clusters = n_clusters, n_init=100)\n",
    "kmeans.fit(scaled_matrix)\n",
    "clusters_clients = kmeans.predict(scaled_matrix)\n",
    "silhouette_avg = silhouette_score(scaled_matrix, clusters_clients)\n",
    "print('score de silhouette: {:<.3f}'.format(silhouette_avg))"
   ]
  },
  {
   "cell_type": "markdown",
   "metadata": {
    "_cell_guid": "08aa3753-1dff-4f70-9ee7-e71b79fa1f88",
    "_uuid": "267f2a4c31cf2d9ae6785aa84c98cf0474db6868"
   },
   "source": [
    "At first, I look at the number of customers in each cluster:"
   ]
  },
  {
   "cell_type": "code",
   "execution_count": null,
   "metadata": {
    "_cell_guid": "7e64fcb6-4827-4bb9-883e-f31e9c595dba",
    "_kg_hide-input": true,
    "_uuid": "b1f770e4ac40cc0e868efb12f895653fb5127599",
    "collapsed": true,
    "scrolled": true
   },
   "outputs": [],
   "source": [
    "pd.DataFrame(pd.Series(clusters_clients).value_counts(), columns = ['nb. de clients']).T"
   ]
  },
  {
   "cell_type": "markdown",
   "metadata": {
    "_cell_guid": "1ec4a223-595f-48b7-b235-a647fd7c751f",
    "_uuid": "0378fc93ca892be22acf4aa2b4c4bddebdccf424"
   },
   "source": [
    "** a / _Report via the PCA_ **\n",
    "\n",
    "There is a certain disparity in the sizes of different groups that have been created. Hence I will now try to understand the content of these clusters in order to validate (or not) this particular separation. At first, I use the result of the PCA:"
   ]
  },
  {
   "cell_type": "code",
   "execution_count": null,
   "metadata": {
    "_cell_guid": "051ee4e8-78a1-48d9-aa43-84e089a57df3",
    "_kg_hide-input": true,
    "_uuid": "716227b8a446ac77c9397893964c782333a02e6a",
    "collapsed": true
   },
   "outputs": [],
   "source": [
    "pca = PCA(n_components=6)\n",
    "matrix_3D = pca.fit_transform(scaled_matrix)\n",
    "mat = pd.DataFrame(matrix_3D)\n",
    "mat['cluster'] = pd.Series(clusters_clients)"
   ]
  },
  {
   "cell_type": "markdown",
   "metadata": {
    "_cell_guid": "977a7aac-23e4-4289-8b2f-b43397188f15",
    "_uuid": "363c9044e639fc298c44edafb96f7ded2a916f25"
   },
   "source": [
    "in order to create a representation of the various clusters:"
   ]
  },
  {
   "cell_type": "code",
   "execution_count": null,
   "metadata": {
    "_cell_guid": "6e2ff63a-1bfe-4c7a-b0e4-7fa387e2c560",
    "_kg_hide-input": true,
    "_uuid": "cececaffe4efaff3333c64426b028b793cc677b5",
    "collapsed": true
   },
   "outputs": [],
   "source": [
    "import matplotlib.patches as mpatches\n",
    "\n",
    "sns.set_style(\"white\")\n",
    "sns.set_context(\"notebook\", font_scale=1, rc={\"lines.linewidth\": 2.5})\n",
    "\n",
    "LABEL_COLOR_MAP = {0:'r', 1:'tan', 2:'b', 3:'k', 4:'c', 5:'g', 6:'deeppink', 7:'skyblue', 8:'darkcyan', 9:'orange',\n",
    "                   10:'yellow', 11:'tomato', 12:'seagreen'}\n",
    "label_color = [LABEL_COLOR_MAP[l] for l in mat['cluster']]\n",
    "\n",
    "fig = plt.figure(figsize = (12,10))\n",
    "increment = 0\n",
    "for ix in range(6):\n",
    "    for iy in range(ix+1, 6):   \n",
    "        increment += 1\n",
    "        ax = fig.add_subplot(4,3,increment)\n",
    "        ax.scatter(mat[ix], mat[iy], c= label_color, alpha=0.5) \n",
    "        plt.ylabel('PCA {}'.format(iy+1), fontsize = 12)\n",
    "        plt.xlabel('PCA {}'.format(ix+1), fontsize = 12)\n",
    "        ax.yaxis.grid(color='lightgray', linestyle=':')\n",
    "        ax.xaxis.grid(color='lightgray', linestyle=':')\n",
    "        ax.spines['right'].set_visible(False)\n",
    "        ax.spines['top'].set_visible(False)\n",
    "        \n",
    "        if increment == 12: break\n",
    "    if increment == 12: break\n",
    "        \n",
    "#_______________________________________________\n",
    "# I set the legend: abreviation -> airline name\n",
    "comp_handler = []\n",
    "for i in range(n_clusters):\n",
    "    comp_handler.append(mpatches.Patch(color = LABEL_COLOR_MAP[i], label = i))\n",
    "\n",
    "plt.legend(handles=comp_handler, bbox_to_anchor=(1.1, 0.9), \n",
    "           title='Cluster', facecolor = 'lightgrey',\n",
    "           shadow = True, frameon = True, framealpha = 1,\n",
    "           fontsize = 13, bbox_transform = plt.gcf().transFigure)\n",
    "\n",
    "plt.tight_layout()"
   ]
  },
  {
   "cell_type": "markdown",
   "metadata": {
    "_cell_guid": "abffa92e-d107-405c-8241-9e174971d7d3",
    "_uuid": "69709e6dc7e0a40aa0749be602762e56d6d47db2"
   },
   "source": [
    "From this representation, it can be seen, for example, that the first principal component allow to separate the tiniest clusters from the rest. More generally, we see that there is always a representation in which two clusters will appear to be distinct.\n",
    "\n",
    "** b/ _Score de silhouette intra-cluster_ **\n",
    "\n",
    "As with product categories, another way to look at the quality of the separation is to look at silouhette scores within different clusters:"
   ]
  },
  {
   "cell_type": "code",
   "execution_count": null,
   "metadata": {
    "_cell_guid": "89a83e55-2681-4c31-9e39-52fe2cd0e5cf",
    "_kg_hide-input": true,
    "_uuid": "3a207d8cfdc08bebeffb5cd8ddb00dfb959efb4a",
    "collapsed": true
   },
   "outputs": [],
   "source": [
    "sample_silhouette_values = silhouette_samples(scaled_matrix, clusters_clients)\n",
    "#____________________________________\n",
    "# define individual silouhette scores\n",
    "sample_silhouette_values = silhouette_samples(scaled_matrix, clusters_clients)\n",
    "#__________________\n",
    "# and do the graph\n",
    "graph_component_silhouette(n_clusters, [-0.15, 0.55], len(scaled_matrix), sample_silhouette_values, clusters_clients)"
   ]
  },
  {
   "cell_type": "markdown",
   "metadata": {
    "_cell_guid": "74588f7c-8ae6-48e0-833c-db705394f2e4",
    "_uuid": "2a0230fe29659164fe82104656849b8bb4af8533"
   },
   "source": [
    "** c/ _Customers morphotype_**\n",
    "\n",
    "At this stage, I have verified that the different clusters are indeed disjoint (at least, in a global way). It remains to understand the habits of the customers in each cluster. To do so, I start by adding to the `selected_customers` dataframe a variable that defines the cluster to which each client belongs:"
   ]
  },
  {
   "cell_type": "code",
   "execution_count": null,
   "metadata": {
    "_cell_guid": "1c45a7fd-b564-4595-b725-0d0ae03a25e7",
    "_uuid": "52f45c0a955a33a52c812aaf9e60e5a82f5bd2da",
    "collapsed": true
   },
   "outputs": [],
   "source": [
    "selected_customers.loc[:, 'cluster'] = clusters_clients"
   ]
  },
  {
   "cell_type": "markdown",
   "metadata": {
    "_cell_guid": "749f0a18-3e62-418b-8dab-5febaf415135",
    "_uuid": "9e5adb7895a22bb8084255e7247465fc8d3ad9ec"
   },
   "source": [
    "Then, I average the contents of this dataframe by first selecting the different groups of clients. This gives access to, for example, the average baskets price, the number of visits or the total sums spent by the clients of the different clusters. I also determine the number of clients in each group (variable ** size **):"
   ]
  },
  {
   "cell_type": "code",
   "execution_count": null,
   "metadata": {
    "_cell_guid": "edaa1b78-74be-44cf-952d-f5148824b5d8",
    "_kg_hide-input": true,
    "_uuid": "0fb5e92a263ea5290cfe72fb03257ea6eff632ce",
    "collapsed": true,
    "scrolled": true
   },
   "outputs": [],
   "source": [
    "merged_df = pd.DataFrame()\n",
    "for i in range(n_clusters):\n",
    "    test = pd.DataFrame(selected_customers[selected_customers['cluster'] == i].mean())\n",
    "    test = test.T.set_index('cluster', drop = True)\n",
    "    test['size'] = selected_customers[selected_customers['cluster'] == i].shape[0]\n",
    "    merged_df = pd.concat([merged_df, test])\n",
    "#_____________________________________________________\n",
    "merged_df.drop('CustomerID', axis = 1, inplace = True)\n",
    "print('number of customers:', merged_df['size'].sum())\n",
    "\n",
    "merged_df = merged_df.sort_values('sum')"
   ]
  },
  {
   "cell_type": "markdown",
   "metadata": {
    "_cell_guid": "3513ca75-e71a-4c18-b40c-e79a43d06400",
    "_uuid": "6103373770bfb5b3e2f60b4c9eee383e1956c2b2"
   },
   "source": [
    "Finally, I re-organize the content of the dataframe by ordering the different clusters: first, in relation to the amount wpsent in each product category and then, according to the total amount spent:"
   ]
  },
  {
   "cell_type": "code",
   "execution_count": null,
   "metadata": {
    "_cell_guid": "9e510c5d-cfa4-4d50-ad2e-93fa01cb319e",
    "_kg_hide-input": true,
    "_uuid": "5c6079b1b9dcb0d894e406255d351680219a5b35",
    "collapsed": true
   },
   "outputs": [],
   "source": [
    "liste_index = []\n",
    "for i in range(5):\n",
    "    column = 'categ_{}'.format(i)\n",
    "    liste_index.append(merged_df[merged_df[column] > 45].index.values[0])\n",
    "#___________________________________\n",
    "liste_index_reordered = liste_index\n",
    "liste_index_reordered += [ s for s in merged_df.index if s not in liste_index]\n",
    "#___________________________________________________________\n",
    "merged_df = merged_df.reindex(index = liste_index_reordered)\n",
    "merged_df = merged_df.reset_index(drop = False)\n",
    "display(merged_df[['cluster', 'count', 'min', 'max', 'mean', 'sum', 'categ_0',\n",
    "                   'categ_1', 'categ_2', 'categ_3', 'categ_4', 'size']])"
   ]
  },
  {
   "cell_type": "markdown",
   "metadata": {
    "_cell_guid": "008fe8f4-491a-45d9-9d52-6310d3e1c391",
    "_uuid": "eaabc79f87998688cdde5c37cd526baa9352135b"
   },
   "source": [
    "** d / _Customers morphology_ **\n",
    "\n",
    "Finally, I created a representation of the different morphotypes. To do this, I define a class to create \"Radar Charts\" (which has been adapted from this [kernel](https://www.kaggle.com/yassineghouzam/don-t-know-why-employees-leave -read-this)):"
   ]
  },
  {
   "cell_type": "code",
   "execution_count": null,
   "metadata": {
    "_cell_guid": "e544d9cd-9589-46e8-9af5-3ad59a193b6b",
    "_kg_hide-input": true,
    "_uuid": "3d7b1bbb5feb7c4e5ab1e48a27104b5fa51cbac4",
    "collapsed": true
   },
   "outputs": [],
   "source": [
    "def _scale_data(data, ranges):\n",
    "    (x1, x2) = ranges[0]\n",
    "    d = data[0]\n",
    "    return [(d - y1) / (y2 - y1) * (x2 - x1) + x1 for d, (y1, y2) in zip(data, ranges)]\n",
    "\n",
    "class RadarChart():\n",
    "    def __init__(self, fig, location, sizes, variables, ranges, n_ordinate_levels = 6):\n",
    "\n",
    "        angles = np.arange(0, 360, 360./len(variables))\n",
    "\n",
    "        ix, iy = location[:] ; size_x, size_y = sizes[:]\n",
    "        \n",
    "        axes = [fig.add_axes([ix, iy, size_x, size_y], polar = True, \n",
    "        label = \"axes{}\".format(i)) for i in range(len(variables))]\n",
    "\n",
    "        _, text = axes[0].set_thetagrids(angles, labels = variables)\n",
    "        \n",
    "        for txt, angle in zip(text, angles):\n",
    "            if angle > -1 and angle < 181:\n",
    "                txt.set_rotation(angle - 90)\n",
    "            else:\n",
    "                txt.set_rotation(angle - 270)\n",
    "        \n",
    "        for ax in axes[1:]:\n",
    "            ax.patch.set_visible(False)\n",
    "            ax.xaxis.set_visible(False)\n",
    "            ax.grid(\"off\")\n",
    "        \n",
    "        for i, ax in enumerate(axes):\n",
    "            grid = np.linspace(*ranges[i],num = n_ordinate_levels)\n",
    "            grid_label = [\"\"]+[\"{:.0f}\".format(x) for x in grid[1:-1]]\n",
    "            ax.set_rgrids(grid, labels = grid_label, angle = angles[i])\n",
    "            ax.set_ylim(*ranges[i])\n",
    "        \n",
    "        self.angle = np.deg2rad(np.r_[angles, angles[0]])\n",
    "        self.ranges = ranges\n",
    "        self.ax = axes[0]\n",
    "                \n",
    "    def plot(self, data, *args, **kw):\n",
    "        sdata = _scale_data(data, self.ranges)\n",
    "        self.ax.plot(self.angle, np.r_[sdata, sdata[0]], *args, **kw)\n",
    "\n",
    "    def fill(self, data, *args, **kw):\n",
    "        sdata = _scale_data(data, self.ranges)\n",
    "        self.ax.fill(self.angle, np.r_[sdata, sdata[0]], *args, **kw)\n",
    "\n",
    "    def legend(self, *args, **kw):\n",
    "        self.ax.legend(*args, **kw)\n",
    "        \n",
    "    def title(self, title, *args, **kw):\n",
    "        self.ax.text(0.9, 1, title, transform = self.ax.transAxes, *args, **kw)\n"
   ]
  },
  {
   "cell_type": "markdown",
   "metadata": {
    "_cell_guid": "231c1e12-c833-43ae-86e2-4f32b48c5bb1",
    "_uuid": "fb503c92e6a1ac8f4a6aa6d2136ec94e69a4de48"
   },
   "source": [
    "This allows to have a global view of the content of each cluster:"
   ]
  },
  {
   "cell_type": "code",
   "execution_count": null,
   "metadata": {
    "_cell_guid": "d0066031-e494-407f-9e9f-b79167244fd1",
    "_kg_hide-input": true,
    "_uuid": "3074b64fa2e091118783baa4452fe7ccc22c82cb",
    "collapsed": true
   },
   "outputs": [],
   "source": [
    "fig = plt.figure(figsize=(10,12))\n",
    "\n",
    "attributes = ['count', 'mean', 'sum', 'categ_0', 'categ_1', 'categ_2', 'categ_3', 'categ_4']\n",
    "ranges = [[0.01, 10], [0.01, 1500], [0.01, 10000], [0.01, 75], [0.01, 75], [0.01, 75], [0.01, 75], [0.01, 75]]\n",
    "index  = [0, 1, 2, 3, 4, 5, 6, 7, 8, 9, 10, 11, 12]\n",
    "\n",
    "n_groups = n_clusters ; i_cols = 3\n",
    "i_rows = n_groups//i_cols\n",
    "size_x, size_y = (1/i_cols), (1/i_rows)\n",
    "\n",
    "for ind in range(n_clusters):\n",
    "    ix = ind%3 ; iy = i_rows - ind//3\n",
    "    pos_x = ix*(size_x + 0.05) ; pos_y = iy*(size_y + 0.05)            \n",
    "    location = [pos_x, pos_y]  ; sizes = [size_x, size_y] \n",
    "    #______________________________________________________\n",
    "    data = np.array(merged_df.loc[index[ind], attributes])    \n",
    "    radar = RadarChart(fig, location, sizes, attributes, ranges)\n",
    "    radar.plot(data, color = 'b', linewidth=2.0)\n",
    "    radar.fill(data, alpha = 0.2, color = 'b')\n",
    "    radar.title(title = 'cluster nº{}'.format(index[ind]), color = 'r')\n",
    "    ind += 1 "
   ]
  },
  {
   "cell_type": "markdown",
   "metadata": {},
   "source": [
    "#### It can be seen, for example, that the first 5 clusters correspond to a strong preponderance of purchases in a particular category of products. Other clusters will differ from basket averages (** mean **), the total sum spent by the clients (** sum **) or the total number of visits made (** count **).\n"
   ]
  }
 ],
 "metadata": {
  "kernelspec": {
   "display_name": "Python 3",
   "language": "python",
   "name": "python3"
  },
  "language_info": {
   "codemirror_mode": {
    "name": "ipython",
    "version": 3
   },
   "file_extension": ".py",
   "mimetype": "text/x-python",
   "name": "python",
   "nbconvert_exporter": "python",
   "pygments_lexer": "ipython3",
   "version": "3.6.3"
  }
 },
 "nbformat": 4,
 "nbformat_minor": 1
}
